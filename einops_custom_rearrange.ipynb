{
 "cells": [
  {
   "metadata": {},
   "cell_type": "markdown",
   "source": "# Imports and setup",
   "id": "dad760518495beee"
  },
  {
   "cell_type": "code",
   "id": "initial_id",
   "metadata": {
    "collapsed": true,
    "ExecuteTime": {
     "end_time": "2025-04-08T19:04:08.546184Z",
     "start_time": "2025-04-08T19:04:05.979308Z"
    }
   },
   "source": [
    "! pip install numpy matplotlib\n",
    "import numpy as np\n",
    "import keyword\n",
    "from typing import List, Dict, Tuple, Optional, Set\n",
    "import functools\n",
    "from dataclasses import dataclass\n",
    "import traceback\n"
   ],
   "outputs": [
    {
     "name": "stdout",
     "output_type": "stream",
     "text": [
      "Requirement already satisfied: numpy in /home/deepakachu/anaconda3/envs/NLP/lib/python3.11/site-packages (1.26.4)\r\n",
      "Requirement already satisfied: matplotlib in /home/deepakachu/anaconda3/envs/NLP/lib/python3.11/site-packages (3.9.0)\r\n",
      "Requirement already satisfied: contourpy>=1.0.1 in /home/deepakachu/anaconda3/envs/NLP/lib/python3.11/site-packages (from matplotlib) (1.2.1)\r\n",
      "Requirement already satisfied: cycler>=0.10 in /home/deepakachu/anaconda3/envs/NLP/lib/python3.11/site-packages (from matplotlib) (0.12.1)\r\n",
      "Requirement already satisfied: fonttools>=4.22.0 in /home/deepakachu/anaconda3/envs/NLP/lib/python3.11/site-packages (from matplotlib) (4.55.3)\r\n",
      "Requirement already satisfied: kiwisolver>=1.3.1 in /home/deepakachu/anaconda3/envs/NLP/lib/python3.11/site-packages (from matplotlib) (1.4.8)\r\n",
      "Requirement already satisfied: packaging>=20.0 in /home/deepakachu/anaconda3/envs/NLP/lib/python3.11/site-packages (from matplotlib) (23.2)\r\n",
      "Requirement already satisfied: pillow>=8 in /home/deepakachu/anaconda3/envs/NLP/lib/python3.11/site-packages (from matplotlib) (11.0.0)\r\n",
      "Requirement already satisfied: pyparsing>=2.3.1 in /home/deepakachu/anaconda3/envs/NLP/lib/python3.11/site-packages (from matplotlib) (3.1.2)\r\n",
      "Requirement already satisfied: python-dateutil>=2.7 in /home/deepakachu/anaconda3/envs/NLP/lib/python3.11/site-packages (from matplotlib) (2.9.0.post0)\r\n",
      "Requirement already satisfied: six>=1.5 in /home/deepakachu/anaconda3/envs/NLP/lib/python3.11/site-packages (from python-dateutil>=2.7->matplotlib) (1.16.0)\r\n"
     ]
    }
   ],
   "execution_count": 4
  },
  {
   "metadata": {},
   "cell_type": "markdown",
   "source": "# Utility functions and constants",
   "id": "b362311bb0757336"
  },
  {
   "metadata": {
    "ExecuteTime": {
     "end_time": "2025-04-08T19:04:08.554505Z",
     "start_time": "2025-04-08T19:04:08.550305Z"
    }
   },
   "cell_type": "code",
   "source": [
    "_ellipsis = \"…\"  #unicode ellipsis for internal representation\n",
    "\n",
    "class EinopsError(ValueError):\n",
    "    \"\"\"Custom error type for einops-related issues.\"\"\"\n",
    "    pass\n",
    "\n",
    "def _check_axis_name(name: str) -> Tuple[bool, str]:\n",
    "    \"\"\"\n",
    "    Validates if a string is a correct axis name for einops patterns.\n",
    "\n",
    "    Checks for standard identifiers (no leading/trailing '_'), '1', internal '...N',\n",
    "    and warns for keywords or 'axis'. Disallows invalid characters, empty strings,\n",
    "    other numbers, or names starting/ending with '_'.\n",
    "\n",
    "    Args:\n",
    "        name: The potential axis name string.\n",
    "\n",
    "    Returns:\n",
    "        A tuple (is_valid, reason_string). `reason_string` is empty if valid.\n",
    "    \"\"\"\n",
    "    if not isinstance(name, str):\n",
    "        return False, \"Axis name must be a string\"\n",
    "    if not name:\n",
    "        return False, \"Axis name cannot be empty\"\n",
    "\n",
    "    # Allow internal ellipsis representation (used after expansion)\n",
    "    if name.startswith(_ellipsis):\n",
    "        return True, \"\"\n",
    "    # Allow anonymous axis of size 1\n",
    "    if name == '1':\n",
    "        return True, \"\"\n",
    "\n",
    "    # Check standard Python identifier rules for user-defined names\n",
    "    if str.isidentifier(name):\n",
    "        if name.startswith(\"_\") or name.endswith(\"_\"):\n",
    "            return False, \"User axis name should not start or end with underscore\"\n",
    "        if keyword.iskeyword(name):\n",
    "            warnings.warn(f\"Using keyword '{name}' as axis name is discouraged\", RuntimeWarning)\n",
    "        if name == \"axis\":\n",
    "            warnings.warn(\"Using 'axis' as an axis name is discouraged\", FutureWarning)\n",
    "        return True, \"\"\n",
    "\n",
    "    # Disallow other numeric names\n",
    "    if name.isdecimal():\n",
    "        return False, f\"Numerical axis '{name}' not allowed (only '1')\"\n",
    "\n",
    "    # If none of the above, it's invalid\n",
    "    return False, f\"'{name}' is not a valid identifier or allowed pattern component\"\n"
   ],
   "id": "bb360214982e2f66",
   "outputs": [],
   "execution_count": 5
  },
  {
   "metadata": {},
   "cell_type": "markdown",
   "source": "# Parsing",
   "id": "98735edcbefa858b"
  },
  {
   "metadata": {
    "ExecuteTime": {
     "end_time": "2025-04-08T19:04:08.624067Z",
     "start_time": "2025-04-08T19:04:08.613688Z"
    }
   },
   "cell_type": "code",
   "source": [
    "class ParsedExpression:\n",
    "    \"\"\"\n",
    "    Parses one side of an einops expression (e.g., \"b c (h w)\").\n",
    "\n",
    "    Extracts axis names, detects ellipsis, and determines the compositional\n",
    "    structure (grouping by spaces and parentheses).\n",
    "\n",
    "    Attributes:\n",
    "        expression: The original expression string.\n",
    "        has_ellipsis: True if '...' was present.\n",
    "        identifiers: Set of unique user-defined axis identifiers (excluding '1',\n",
    "                     includes internal `_ellipsis` marker if present).\n",
    "        composition: List of lists representing structure. '1' becomes [],\n",
    "                     parentheses form inner lists. Example:\n",
    "                     \"a (b c) 1 d\" -> [['a'], ['b', 'c'], [], ['d']]\n",
    "    \"\"\"\n",
    "    def __init__(self, expression: str):\n",
    "        \"\"\"\n",
    "        Initializes and parses the expression string.\n",
    "\n",
    "        Args:\n",
    "            expression: The string pattern component.\n",
    "\n",
    "        Raises:\n",
    "            EinopsError: For syntax errors (invalid chars, parentheses issues, etc.).\n",
    "        \"\"\"\n",
    "        self.expression: str = expression\n",
    "        self.has_ellipsis: bool = False\n",
    "        self.identifiers: Set[str] = set()\n",
    "        self.composition: List[List[str]] = [] # e.g., [['a'], ['b', 'c'], []] for \"a (b c) 1\"\n",
    "\n",
    "        if \".\" in expression:\n",
    "            if \"...\" not in expression or expression.count(\"...\") != 1 or expression.count(\".\") != 3:\n",
    "                raise EinopsError(\"Expression may contain dots only inside ellipsis (...)\")\n",
    "            expression = expression.replace(\"...\", _ellipsis)\n",
    "            self.has_ellipsis = True\n",
    "\n",
    "        current_identifier: Optional[str] = None\n",
    "        in_brackets: bool = False\n",
    "        current_bracket_group: Optional[List[str]] = None\n",
    "\n",
    "        for char in expression:\n",
    "            if char == '(':\n",
    "                if current_identifier is not None:\n",
    "                    self._add_composition_element(current_identifier, in_brackets, current_bracket_group)\n",
    "                current_identifier = None\n",
    "\n",
    "                if in_brackets:\n",
    "                    raise EinopsError(\"Nested parentheses are not allowed\")\n",
    "                in_brackets = True\n",
    "                current_bracket_group = []\n",
    "\n",
    "            elif char == ')':\n",
    "                if current_identifier is not None:\n",
    "                    self._add_composition_element(current_identifier, in_brackets, current_bracket_group)\n",
    "                current_identifier = None\n",
    "\n",
    "                if not in_brackets or current_bracket_group is None:\n",
    "                    raise EinopsError(\"Mismatched parentheses: encountered ')' without matching '('\")\n",
    "                if not current_bracket_group:\n",
    "                    raise EinopsError(\"Empty parentheses () are not allowed\")\n",
    "                if len(current_bracket_group) != len(set(current_bracket_group)):\n",
    "                    duplicates = {x for x in current_bracket_group if current_bracket_group.count(x) > 1}\n",
    "                    raise EinopsError(f\"Duplicate identifiers within parentheses: {duplicates}\")\n",
    "\n",
    "                self.composition.append(current_bracket_group)\n",
    "                in_brackets = False\n",
    "                current_bracket_group = None\n",
    "\n",
    "            elif char.isspace():\n",
    "                if current_identifier is not None:\n",
    "                    self._add_composition_element(current_identifier, in_brackets, current_bracket_group)\n",
    "                current_identifier = None\n",
    "\n",
    "            elif char.isalnum() or char == '_' or char == _ellipsis:\n",
    "                current_identifier = (current_identifier or \"\") + char\n",
    "            else:\n",
    "                raise EinopsError(f\"Invalid character '{char}' in expression '{self.expression}'\")\n",
    "\n",
    "        if current_identifier is not None:\n",
    "            self._add_composition_element(current_identifier, in_brackets, current_bracket_group)\n",
    "\n",
    "        if in_brackets:\n",
    "            raise EinopsError(\"Mismatched parentheses: unclosed '('\")\n",
    "\n",
    "    def _add_composition_element(self, identifier: str, in_brackets: bool,\n",
    "                                 bracket_group: Optional[List[str]]):\n",
    "        \"\"\"\n",
    "        Internal helper to validate and add a parsed identifier to the composition.\n",
    "        Handles '1', validation, and adding to the correct list (main or bracket group).\n",
    "        \"\"\"\n",
    "        if identifier == '1':\n",
    "            if in_brackets:\n",
    "                raise EinopsError(\"Anonymous dimension '1' is not allowed inside parentheses\")\n",
    "            self.composition.append([]) # Represent '1' as an empty list\n",
    "            return\n",
    "\n",
    "        is_valid, reason = _check_axis_name(identifier)\n",
    "        if not is_valid:\n",
    "            raise EinopsError(f\"Invalid axis identifier '{identifier}': {reason}\")\n",
    "\n",
    "        if identifier != _ellipsis:\n",
    "            self.identifiers.add(identifier)\n",
    "        elif self.has_ellipsis:\n",
    "             self.identifiers.add(_ellipsis) # Track marker only if ellipsis was originally present\n",
    "\n",
    "        if in_brackets:\n",
    "            if bracket_group is None:\n",
    "                # Should not happen if parsing logic is correct\n",
    "                raise RuntimeError(\"Internal parsing error: bracket_group is None while in_brackets is True\")\n",
    "            bracket_group.append(identifier)\n",
    "        else:\n",
    "            self.composition.append([identifier]) # Add as a new standalone group\n",
    "\n",
    "\n",
    "def _expand_composition(composition: List[List[str]],\n",
    "                        ellipsis_names: List[str],\n",
    "                        ellipsis_marker: str) -> List[List[str]]:\n",
    "    \"\"\"\n",
    "    Replaces the internal ellipsis marker (`_ellipsis`) in a composition\n",
    "    with the actual list of generated ellipsis axis names (e.g., ['...0', '...1']).\n",
    "\n",
    "    Example: [['b'], [_ellipsis], ['c']] with ['...0', '...1'] -> [['b'], ['...0'], ['...1'], ['c']]\n",
    "             [['b', _ellipsis, 'c']] with ['...0', '...1'] -> [['b', '...0', '...1', 'c']]\n",
    "    \"\"\"\n",
    "    expanded_composition = []\n",
    "    for group in composition:\n",
    "        if group == [ellipsis_marker]:\n",
    "            # Replace marker group with list of singleton groups for each ellipsis name\n",
    "            expanded_composition.extend([[name] for name in ellipsis_names])\n",
    "        else:\n",
    "            # Expand ellipsis marker within a composite group\n",
    "            new_group = []\n",
    "            contains_ellipsis = False\n",
    "            for axis in group:\n",
    "                if axis == ellipsis_marker:\n",
    "                    new_group.extend(ellipsis_names)\n",
    "                    contains_ellipsis = True\n",
    "                else:\n",
    "                    new_group.append(axis)\n",
    "            # Add the modified group (or original if no ellipsis was present)\n",
    "            if new_group or not contains_ellipsis: # Avoid adding empty list if original was just `[...]`\n",
    "                expanded_composition.append(new_group)\n",
    "    return expanded_composition\n"
   ],
   "id": "3f3abe45117f1240",
   "outputs": [],
   "execution_count": 6
  },
  {
   "metadata": {},
   "cell_type": "markdown",
   "source": "# Preparing the recipe",
   "id": "d73b47237b64f3e3"
  },
  {
   "metadata": {
    "ExecuteTime": {
     "end_time": "2025-04-08T19:04:08.673524Z",
     "start_time": "2025-04-08T19:04:08.668718Z"
    }
   },
   "cell_type": "code",
   "source": [
    "@dataclass(frozen=True)\n",
    "class RearrangeRecipe:\n",
    "    \"\"\"\n",
    "    Immutable plan for a rearrange operation, derived from pattern and input info.\n",
    "\n",
    "    Stores parsed/analyzed structure, axis mappings, and transformation steps\n",
    "    (reshapes, transpose, squeeze, expand_dims, broadcast) needed. Caching this\n",
    "    avoids redundant analysis for repeated calls with the same signature.\n",
    "\n",
    "    Attributes:\n",
    "        elementary_left_axes: Tuple of all axis names on left after splits/ellipsis.\n",
    "            Represents shape after initial reshape. ('b', 'h', 'w', '_anon1_0', 'c')\n",
    "        axis_name_to_pos: Maps elementary left axis name to its index.\n",
    "            {'b': 0, 'h': 1, 'w': 2, '_anon1_0': 3, 'c': 4}\n",
    "        input_composition: Structure of input axes before splitting, using elementary names.\n",
    "            (('b',), ('h', 'w'), ('_anon1_0',), ('c',))\n",
    "        needs_initial_reshape: True if left side has composites '()' or '1'.\n",
    "        dropped_anon1_indices: Original indices of left '1' axes dropped on right.\n",
    "        axes_permutation: Transpose order for remaining axes (after drops) for right side.\n",
    "        inserted_1_indices: Indices where new '1' dims are inserted (post-transpose).\n",
    "        final_elementary_info: Tuple detailing each axis after permutation/insertion.\n",
    "            `(name: str, known_size: Optional[int], source_pos_if_repeat: Optional[int])`\n",
    "            `known_size` is 1 for new '1's. `source_pos_if_repeat` links new axes\n",
    "            to their size-1 source axis on the left for broadcasting.\n",
    "        right_composition: Compositional structure of output axes using final elem names.\n",
    "            Used for final merge reshape. (('b', 'h'), ('w',), ('c',))\n",
    "        final_shape_group_count: Number of dimension groups (rank) in the final output.\n",
    "    \"\"\"\n",
    "    elementary_left_axes: Tuple[str, ...]\n",
    "    axis_name_to_pos: Dict[str, int]\n",
    "    input_composition: Tuple[Tuple[str, ...], ...]\n",
    "    needs_initial_reshape: bool\n",
    "    dropped_anon1_indices: Tuple[int, ...]\n",
    "    axes_permutation: Tuple[int, ...]\n",
    "    inserted_1_indices: Tuple[int, ...]\n",
    "    final_elementary_info: Tuple[Tuple[str, Optional[int], Optional[int]], ...]\n",
    "    right_composition: Tuple[Tuple[str, ...], ...]\n",
    "    final_shape_group_count: int\n",
    "\n",
    "    @classmethod\n",
    "    def freeze_composition(cls, composition: List[List[str]]) -> Tuple[Tuple[str, ...], ...]:\n",
    "         return tuple(tuple(group) for group in composition)\n",
    "    @classmethod\n",
    "    def freeze_elementary_axes(cls, axes: List[str]) -> Tuple[str, ...]:\n",
    "         return tuple(axes)\n",
    "    @classmethod\n",
    "    def freeze_elementary_info(cls, info: List[Tuple[str, Optional[int], Optional[int]]]) -> Tuple[Tuple[str, Optional[int], Optional[int]], ...]:\n",
    "         return tuple(info)\n"
   ],
   "id": "9098b4270220ae4c",
   "outputs": [],
   "execution_count": 7
  },
  {
   "metadata": {},
   "cell_type": "markdown",
   "source": [
    "## Cached recipe preparation\n",
    "This enables efficient reuse of the rearrangement plan for identical patterns and input sizes. We cache the parsed pattern and the input dimensions to avoid redundant analysis."
   ],
   "id": "25f6e702e2eb0e5c"
  },
  {
   "metadata": {
    "ExecuteTime": {
     "end_time": "2025-04-08T19:04:08.738355Z",
     "start_time": "2025-04-08T19:04:08.719287Z"
    }
   },
   "cell_type": "code",
   "source": [
    "@functools.lru_cache(maxsize=1024)\n",
    "def _prepare_rearrange_recipe(pattern: str, ndim: int, axes_lengths_keys: Tuple[str, ...]) -> RearrangeRecipe:\n",
    "    \"\"\"\n",
    "    Analyzes pattern, input dims, and known axis names to create a RearrangeRecipe.\n",
    "\n",
    "    Parses pattern, handles ellipsis, plans reshapes, permutations, dropping/inserting '1's,\n",
    "    and maps sources for broadcasting/repetition. Caches the resulting recipe based on\n",
    "    pattern, ndim, and the sorted keys of `axes_lengths`.\n",
    "\n",
    "    Args:\n",
    "        pattern: The einops rearrange pattern string (e.g., 'b h w c -> b c h w').\n",
    "        ndim: The number of dimensions of the input tensor.\n",
    "        axes_lengths_keys: Sorted tuple of keys provided in `**axes_lengths`.\n",
    "\n",
    "    Returns:\n",
    "        A RearrangeRecipe containing the precomputed plan.\n",
    "\n",
    "    Raises:\n",
    "        EinopsError: For parsing errors, pattern/ndim inconsistencies, missing sizes, etc.\n",
    "    \"\"\"\n",
    "    if not isinstance(pattern, str): raise EinopsError(\"Pattern must be a string.\")\n",
    "    if not pattern.strip(): raise EinopsError(\"Pattern cannot be empty.\")\n",
    "    if \"->\" not in pattern or pattern.count(\"->\") != 1: raise EinopsError(\"Pattern must contain exactly one '->' separator.\")\n",
    "\n",
    "    left_str, right_str = map(str.strip, pattern.split(\"->\"))\n",
    "    try:\n",
    "        left_expr = ParsedExpression(left_str)\n",
    "        right_expr = ParsedExpression(right_str)\n",
    "    except EinopsError as e:\n",
    "        raise EinopsError(f\"Error parsing pattern '{pattern}': {e}\") from e\n",
    "\n",
    "    if left_expr.has_ellipsis != right_expr.has_ellipsis:\n",
    "        raise EinopsError(\"Ellipsis (...) must appear on both sides of '->' or neither.\")\n",
    "\n",
    "    # Validate scalar input patterns early\n",
    "    if ndim == 0 and left_expr.composition and left_expr.composition != [[_ellipsis]]:\n",
    "        raise EinopsError(\"Left side pattern must be empty or '...' for scalar (0D) input.\")\n",
    "    if not left_expr.composition and ndim > 0 and right_expr.expression and right_expr.expression != _ellipsis:\n",
    "        raise EinopsError(\"Left side pattern cannot be empty for non-scalar input unless right is empty or ellipsis.\")\n",
    "\n",
    "    left_composition = left_expr.composition\n",
    "    right_composition = right_expr.composition\n",
    "\n",
    "    # Expand ellipsis if present\n",
    "    ellipsis_names: List[str] = []\n",
    "    if left_expr.has_ellipsis:\n",
    "        num_non_ellipsis_input_dims = sum(1 for group in left_composition if group != [_ellipsis])\n",
    "        if ndim < num_non_ellipsis_input_dims:\n",
    "            raise EinopsError(f\"Input tensor has {ndim} dims, pattern requires >= {num_non_ellipsis_input_dims} \"\n",
    "                              f\"non-ellipsis dims for left ('{left_str}')\")\n",
    "        ellipsis_ndim = ndim - num_non_ellipsis_input_dims\n",
    "        ellipsis_names = [f\"{_ellipsis}{i}\" for i in range(ellipsis_ndim)]\n",
    "        left_composition = _expand_composition(left_composition, ellipsis_names, _ellipsis)\n",
    "        right_composition = _expand_composition(right_composition, ellipsis_names, _ellipsis)\n",
    "        right_expr.identifiers.update(ellipsis_names) # Ensure ellipsis names are known on right\n",
    "\n",
    "    # Analyze left side: determine elementary axes and input structure\n",
    "    elementary_left_axes: List[str] = []\n",
    "    axis_name_to_pos: Dict[str, int] = {}\n",
    "    input_composition_for_recipe: List[List[str]] = []\n",
    "    processed_left_identifiers: Set[str] = set()\n",
    "    potential_anon1_source_indices: Set[int] = set() # Original indices of input '1' dims\n",
    "\n",
    "    current_elementary_pos = 0\n",
    "    current_dim_index = 0\n",
    "\n",
    "    for group in left_composition:\n",
    "        group_axes_names: List[str] = []\n",
    "        if not group: # Anonymous '1' dimension\n",
    "            axis_name = f\"_anon1_{current_dim_index}\"\n",
    "            elementary_left_axes.append(axis_name)\n",
    "            axis_name_to_pos[axis_name] = current_elementary_pos\n",
    "            group_axes_names.append(axis_name)\n",
    "            processed_left_identifiers.add(axis_name)\n",
    "            potential_anon1_source_indices.add(current_elementary_pos)\n",
    "            current_elementary_pos += 1\n",
    "        else: # Named axis or composite group\n",
    "            for axis_name in group:\n",
    "                if axis_name in processed_left_identifiers:\n",
    "                    raise EinopsError(f\"Duplicate identifier '{axis_name}' on left side ('{left_str}')\")\n",
    "                # Basic name validation already done by ParsedExpression\n",
    "                processed_left_identifiers.add(axis_name)\n",
    "                elementary_left_axes.append(axis_name)\n",
    "                axis_name_to_pos[axis_name] = current_elementary_pos\n",
    "                group_axes_names.append(axis_name)\n",
    "                current_elementary_pos += 1\n",
    "\n",
    "        input_composition_for_recipe.append(group_axes_names)\n",
    "        current_dim_index += 1\n",
    "\n",
    "    if ndim > 0 and left_str and current_dim_index != ndim:\n",
    "        raise EinopsError(f\"Pattern left side '{left_str}' implies {current_dim_index} dimensions, \"\n",
    "                          f\"but input tensor has {ndim}.\")\n",
    "\n",
    "    needs_initial_reshape = (ndim > 0 and len(elementary_left_axes) != ndim)\n",
    "    all_input_indices = set(range(len(elementary_left_axes)))\n",
    "\n",
    "    # Analyze right side (Pass 1): Identify kept, new, dropped axes. Validate new axis sizes.\n",
    "    processed_right_identifiers_pass1: Set[str] = set()\n",
    "    final_shape_group_count: int = len(right_composition)\n",
    "    new_axes_requiring_size: List[str] = [] # User axes appearing only on right\n",
    "    kept_axes_indices_from_left: Set[int] = set() # Original indices kept on right\n",
    "    axis_names_from_kwargs_keys = set(axes_lengths_keys)\n",
    "\n",
    "    for group in right_composition:\n",
    "        if not group: continue # Skip anonymous '1' on right for now\n",
    "        for axis_name in group:\n",
    "            if axis_name in processed_right_identifiers_pass1 and not axis_name.startswith(_ellipsis):\n",
    "                raise EinopsError(f\"Duplicate identifier '{axis_name}' on right side ('{right_str}')\")\n",
    "            # Basic name validation done by ParsedExpression\n",
    "            processed_right_identifiers_pass1.add(axis_name)\n",
    "\n",
    "            if axis_name in axis_name_to_pos:\n",
    "                kept_axes_indices_from_left.add(axis_name_to_pos[axis_name])\n",
    "            elif not axis_name.startswith(_ellipsis): # New user-defined axis\n",
    "                new_axes_requiring_size.append(axis_name)\n",
    "                if axis_name not in axis_names_from_kwargs_keys:\n",
    "                     raise EinopsError(f\"New axis '{axis_name}' on right side ('{right_str}') \"\n",
    "                                       f\"requires size specification in **axes_lengths.\")\n",
    "\n",
    "    # Determine sources for new axes (repetition/broadcasting from size-1 axes on left)\n",
    "    available_potential_sources = potential_anon1_source_indices.copy()\n",
    "    source_map_for_new_axes: Dict[str, int] = {} # new_axis_name -> original_source_index\n",
    "    consumed_sources_indices: Set[int] = set()\n",
    "\n",
    "    for new_axis_name in new_axes_requiring_size:\n",
    "        if not available_potential_sources:\n",
    "            raise EinopsError(f\"Operation (creation of axis '{new_axis_name}') requires an input axis of size 1 \"\n",
    "                              f\"for repetition/broadcasting, but none were provided or available on the left side.\")\n",
    "        source_index = available_potential_sources.pop()\n",
    "        source_map_for_new_axes[new_axis_name] = source_index\n",
    "        consumed_sources_indices.add(source_index)\n",
    "\n",
    "    # Determine dropped axes (must be anonymous '1's or consumed sources)\n",
    "    dropped_indices: Set[int] = set()\n",
    "    dropped_anon1_indices_list: List[int] = []\n",
    "    non_droppable_unused: List[str] = []\n",
    "\n",
    "    for i, name in enumerate(elementary_left_axes):\n",
    "        is_kept_directly = i in kept_axes_indices_from_left\n",
    "        is_consumed_as_source = i in consumed_sources_indices\n",
    "\n",
    "        if not is_kept_directly and not is_consumed_as_source:\n",
    "            dropped_indices.add(i)\n",
    "            if name.startswith(\"_anon1_\"):\n",
    "                dropped_anon1_indices_list.append(i)\n",
    "            elif not name.startswith(_ellipsis): # Ellipsis axes can be implicitly dropped if dims match\n",
    "                non_droppable_unused.append(name)\n",
    "\n",
    "    if non_droppable_unused:\n",
    "        raise EinopsError(f\"Input axes {non_droppable_unused} were specified on the left \"\n",
    "                          f\"but are not used on the right side ('{right_str}'). \"\n",
    "                          f\"Only anonymous '1' axes or axes used as sources for repetition can be dropped.\")\n",
    "\n",
    "    # Build mapping from original kept indices to post-squeeze indices\n",
    "    kept_input_indices = sorted(list(all_input_indices - dropped_indices))\n",
    "    old_kept_index_to_new_index: Dict[int, int] = {\n",
    "        old_idx: new_idx for new_idx, old_idx in enumerate(kept_input_indices)\n",
    "    }\n",
    "\n",
    "    # Analyze right side (Pass 2): Build permutation, final info, insertion list\n",
    "    axes_permutation_list: List[int] = [] # Permutation indices for post-squeeze tensor\n",
    "    final_elementary_info_list: List[Tuple[str, Optional[int], Optional[int]]] = []\n",
    "    inserted_1_indices_list: List[int] = [] # Indices for np.expand_dims (post-transpose)\n",
    "    current_intermediate_output_dim = 0 # Tracks dim index after transpose\n",
    "\n",
    "    for group in right_composition:\n",
    "        if not group:  # Insertion '1' on the right side\n",
    "            inserted_1_indices_list.append(current_intermediate_output_dim)\n",
    "            current_intermediate_output_dim += 1 # This insertion increases dimensionality\n",
    "        else:  # Named or composite group on the right side\n",
    "            num_elementary_axes_in_group = 0\n",
    "            for axis_name in group:\n",
    "                num_elementary_axes_in_group += 1\n",
    "                source_pos: Optional[int] = None\n",
    "                new_index_post_squeeze: Optional[int] = None\n",
    "\n",
    "                if axis_name in axis_name_to_pos:  # Axis comes directly from the left\n",
    "                    source_pos = axis_name_to_pos[axis_name]\n",
    "                    if source_pos not in old_kept_index_to_new_index: # Should be kept\n",
    "                        raise EinopsError(f\"Internal Error: Kept axis '{axis_name}' (pos {source_pos}) not found in post-squeeze mapping.\")\n",
    "                    new_index_post_squeeze = old_kept_index_to_new_index[source_pos]\n",
    "                    axes_permutation_list.append(new_index_post_squeeze)\n",
    "                    size = 1 if axis_name.startswith(\"_anon1_\") else None\n",
    "                    final_elementary_info_list.append((axis_name, size, None))\n",
    "\n",
    "                elif axis_name in source_map_for_new_axes: # New axis created via repetition\n",
    "                    source_pos = source_map_for_new_axes[axis_name]\n",
    "                    if source_pos not in old_kept_index_to_new_index: # Source must be kept\n",
    "                         source_axis_name = elementary_left_axes[source_pos]\n",
    "                         raise EinopsError(f\"Internal Error: Repetition source axis '{source_axis_name}' (pos {source_pos}) not found in post-squeeze mapping.\")\n",
    "                    new_index_post_squeeze = old_kept_index_to_new_index[source_pos]\n",
    "                    axes_permutation_list.append(new_index_post_squeeze)\n",
    "                    final_elementary_info_list.append((axis_name, None, source_pos)) # Store source pos\n",
    "\n",
    "                elif axis_name.startswith(_ellipsis): # Ellipsis axis\n",
    "                    source_pos = axis_name_to_pos.get(axis_name)\n",
    "                    if source_pos is None: raise EinopsError(f\"Internal Error: Ellipsis axis '{axis_name}' not found.\")\n",
    "                    if source_pos not in old_kept_index_to_new_index: raise EinopsError(f\"Internal Error: Ellipsis axis '{axis_name}' (pos {source_pos}) not found in post-squeeze map.\")\n",
    "                    new_index_post_squeeze = old_kept_index_to_new_index[source_pos]\n",
    "                    axes_permutation_list.append(new_index_post_squeeze)\n",
    "                    final_elementary_info_list.append((axis_name, None, None))\n",
    "\n",
    "                else: # Should not be reachable\n",
    "                    raise EinopsError(f\"Internal Error: Unhandled axis '{axis_name}' during recipe building pass 2.\")\n",
    "\n",
    "            # Advance intermediate dim counter by number of elementary axes processed in this group\n",
    "            current_intermediate_output_dim += num_elementary_axes_in_group\n",
    "\n",
    "\n",
    "    # Final validation: Identifier consistency between left and right (user-defined axes)\n",
    "    user_left_identifiers = {ax for ax in axis_name_to_pos if not ax.startswith(('_', _ellipsis))}\n",
    "    user_right_identifiers = {name for group in right_composition if group for name in group if not name.startswith(('_', _ellipsis))}\n",
    "    user_axes_introduced_on_right = {name for name in new_axes_requiring_size if not name.startswith(('_', _ellipsis))}\n",
    "    user_axes_from_left_on_right = user_right_identifiers - user_axes_introduced_on_right\n",
    "\n",
    "    truly_missing_on_right = set()\n",
    "    for ax_name in user_left_identifiers:\n",
    "        ax_pos = axis_name_to_pos[ax_name]\n",
    "        if ax_pos not in dropped_indices and ax_name not in user_axes_from_left_on_right:\n",
    "            truly_missing_on_right.add(ax_name)\n",
    "    diff_right_only = user_axes_from_left_on_right - user_left_identifiers # Should be empty\n",
    "\n",
    "    if truly_missing_on_right or diff_right_only:\n",
    "        message = \"Axis name consistency error (checked user-defined names only):\"\n",
    "        if truly_missing_on_right: message += f\"\\n  Left axes missing on right (and not dropped '1's): {truly_missing_on_right}\"\n",
    "        if diff_right_only: message += f\"\\n  Right axes not found on left (and not new): {diff_right_only}\" # Internal error\n",
    "        raise EinopsError(message)\n",
    "\n",
    "    # Freeze recipe components into immutable structures\n",
    "    frozen_left_axes = RearrangeRecipe.freeze_elementary_axes(elementary_left_axes)\n",
    "    frozen_input_comp = RearrangeRecipe.freeze_composition(input_composition_for_recipe)\n",
    "    frozen_right_comp = RearrangeRecipe.freeze_composition(right_composition)\n",
    "    frozen_perm = tuple(axes_permutation_list)\n",
    "    frozen_final_info = RearrangeRecipe.freeze_elementary_info(final_elementary_info_list)\n",
    "    frozen_inserted_1_indices = tuple(sorted(inserted_1_indices_list))\n",
    "    frozen_dropped_anon1_indices = tuple(sorted(dropped_anon1_indices_list)) # Sort for deterministic squeeze\n",
    "\n",
    "    return RearrangeRecipe(\n",
    "        elementary_left_axes=frozen_left_axes,\n",
    "        axis_name_to_pos=axis_name_to_pos,\n",
    "        input_composition=frozen_input_comp,\n",
    "        needs_initial_reshape=needs_initial_reshape,\n",
    "        dropped_anon1_indices=frozen_dropped_anon1_indices,\n",
    "        axes_permutation=frozen_perm,\n",
    "        inserted_1_indices=frozen_inserted_1_indices,\n",
    "        final_elementary_info=frozen_final_info,\n",
    "        right_composition=frozen_right_comp,\n",
    "        final_shape_group_count=final_shape_group_count,\n",
    "    )"
   ],
   "id": "57d5c95db4544178",
   "outputs": [],
   "execution_count": 8
  },
  {
   "metadata": {},
   "cell_type": "markdown",
   "source": "# Rearranging the tensor",
   "id": "9e35776ce1fe38d0"
  },
  {
   "metadata": {
    "ExecuteTime": {
     "end_time": "2025-04-08T19:04:08.803425Z",
     "start_time": "2025-04-08T19:04:08.768820Z"
    }
   },
   "cell_type": "code",
   "source": [
    "def rearrange(tensor: np.ndarray, pattern: str, **axes_lengths: int) -> np.ndarray:\n",
    "    \"\"\"\n",
    "    Rearranges dimensions of a NumPy array according to the einops pattern.\n",
    "\n",
    "    Supports transpose, reshape (split/merge), add/remove dimension, ellipsis,\n",
    "    and repetition/broadcasting via a flexible pattern string.\n",
    "\n",
    "    Examples:\n",
    "        `rearrange(x, 'b h w c -> b c h w')` # Transpose\n",
    "        `rearrange(x, 'b (h w) c -> b h w c', h=10)` # Split\n",
    "        `rearrange(x, 'b h w c -> b (h w) c')` # Merge\n",
    "        `rearrange(x, 'b h w -> b h w 1')` # Add dimension\n",
    "        `rearrange(x, 'b h w 1 -> b h w')` # Remove dimension\n",
    "        `rearrange(x, '... c -> c ...')` # Ellipsis\n",
    "        `rearrange(x, 'h w -> h w c', c=3)` # Repetition (if x has size 1)\n",
    "\n",
    "    Args:\n",
    "        tensor: Input NumPy array.\n",
    "        pattern: Einops pattern string (e.g., 'b h w c -> b (h w) c').\n",
    "        **axes_lengths: Sizes for newly created or unknown dimensions (e.g., `h=10`).\n",
    "\n",
    "    Returns:\n",
    "        The rearranged NumPy array.\n",
    "\n",
    "    Raises:\n",
    "        EinopsError: For invalid pattern, shape inconsistencies, missing axis lengths, etc.\n",
    "        ValueError: For underlying NumPy operation failures (e.g., reshape size mismatch).\n",
    "        TypeError: For incorrect input types.\n",
    "    \"\"\"\n",
    "    try:\n",
    "        if not isinstance(tensor, np.ndarray):\n",
    "            raise EinopsError(\"Input tensor must be a NumPy array.\")\n",
    "\n",
    "        ndim = tensor.ndim\n",
    "        # Use sorted keys for cache consistency\n",
    "        axes_lengths_keys = tuple(sorted(axes_lengths.keys()))\n",
    "\n",
    "        # Get the precomputed plan (cached)\n",
    "        recipe = _prepare_rearrange_recipe(pattern, ndim, axes_lengths_keys)\n",
    "\n",
    "        # Handle scalar input (ndim == 0)\n",
    "        if ndim == 0:\n",
    "            if not recipe.right_composition: # e.g., ' -> ' or '... -> ...'\n",
    "                return tensor.reshape(()) if tensor.shape != () else tensor # Ensure scalar output shape\n",
    "            is_only_ones = all(not group for group in recipe.right_composition) # e.g., ' -> 1 1'\n",
    "            if is_only_ones:\n",
    "                target_shape = (1,) * recipe.final_shape_group_count\n",
    "                try: return tensor.reshape(target_shape)\n",
    "                except (ValueError, TypeError) as e: raise EinopsError(f\"Failed reshape scalar to {target_shape}: {e}\") from e\n",
    "            else: # Other patterns invalid for scalar input (caught by recipe prep)\n",
    "                right_str = pattern.split('->')[1].strip()\n",
    "                raise EinopsError(f\"Invalid pattern right side ('{right_str}') for scalar (0D) input.\")\n",
    "\n",
    "        # Determine concrete sizes for all elementary axes using tensor shape & axes_lengths\n",
    "        axis_name_to_size: Dict[str, int] = {}\n",
    "        tensor_shape = tensor.shape\n",
    "\n",
    "        # Pass 1: Populate sizes from axes_lengths and pattern-inferred sizes ('1's)\n",
    "        processed_names_in_kwargs = set()\n",
    "        for name, recipe_size, src_pos in recipe.final_elementary_info:\n",
    "            if name in axes_lengths:\n",
    "                size = axes_lengths[name]\n",
    "                if not isinstance(size, int) or size <= 0: raise EinopsError(f\"Axis length '{name}' must be positive int, got {size}\")\n",
    "                if recipe_size is not None and recipe_size != size: raise EinopsError(f\"Axis '{name}' fixed size {recipe_size} from pattern conflicts with provided size {size}.\")\n",
    "                axis_name_to_size[name] = size\n",
    "                processed_names_in_kwargs.add(name)\n",
    "            elif recipe_size is not None: # Size known from pattern (must be 1)\n",
    "                axis_name_to_size[name] = recipe_size\n",
    "\n",
    "        # Pass 2: Add sizes for axes only present in axes_lengths (new axes)\n",
    "        for name, size in axes_lengths.items():\n",
    "            if name not in axis_name_to_size and name not in processed_names_in_kwargs:\n",
    "                 if not isinstance(size, int) or size <= 0: raise EinopsError(f\"Axis length '{name}' must be positive int, got {size}\")\n",
    "                 is_new_axis = any(info[0] == name and info[2] is not None for info in recipe.final_elementary_info)\n",
    "                 is_present_on_left = name in recipe.axis_name_to_pos\n",
    "                 if not is_new_axis and not is_present_on_left: warnings.warn(f\"Provided size for axis '{name}' which does not appear in the pattern.\", RuntimeWarning)\n",
    "                 axis_name_to_size[name] = size\n",
    "\n",
    "        # Pass 3: Infer remaining sizes from tensor_shape and input_composition\n",
    "        current_dim_index = 0\n",
    "        for group_index, group in enumerate(recipe.input_composition):\n",
    "            if current_dim_index >= ndim: raise EinopsError(f\"Internal Error: Pattern implies more input dimensions ({group_index+1}) than tensor provides ({ndim}).\")\n",
    "\n",
    "            current_dim_size = tensor_shape[current_dim_index]\n",
    "            known_size_product = 1\n",
    "            unknown_axes_in_group: List[str] = []\n",
    "\n",
    "            for axis_name in group:\n",
    "                if axis_name in axis_name_to_size: known_size_product *= axis_name_to_size[axis_name]\n",
    "                else: unknown_axes_in_group.append(axis_name)\n",
    "\n",
    "            if known_size_product == 0: raise EinopsError(f\"Shape error: Product of known dimensions in group '({' '.join(group) if group else '1'})' is zero.\")\n",
    "\n",
    "            if not unknown_axes_in_group: # All sizes known, validate product\n",
    "                if known_size_product != current_dim_size:\n",
    "                    raise EinopsError(f\"Shape mismatch for input dim {current_dim_index}: \"\n",
    "                                      f\"Pattern group '({' '.join(group) if group else '1'})' size {known_size_product} != tensor dim size {current_dim_size}.\")\n",
    "            elif len(unknown_axes_in_group) == 1: # Infer the single unknown size\n",
    "                unknown_axis_name = unknown_axes_in_group[0]\n",
    "                if known_size_product <= 0: raise EinopsError(f\"Internal Error: Cannot divide by non-positive known size product {known_size_product}.\")\n",
    "                inferred_size, remainder = divmod(current_dim_size, known_size_product)\n",
    "                if remainder != 0 or inferred_size < 0 or (inferred_size == 0 and current_dim_size != 0):\n",
    "                    raise EinopsError(f\"Shape mismatch for input dim {current_dim_index}: Tensor size {current_dim_size} \"\n",
    "                                      f\"not divisible by known sizes ({known_size_product}) in group '({' '.join(group) if group else '1'})' \"\n",
    "                                      f\"to determine size of '{unknown_axis_name}'.\")\n",
    "                axis_name_to_size[unknown_axis_name] = inferred_size\n",
    "            else: # Multiple unknowns, ambiguous\n",
    "                raise EinopsError(f\"Cannot infer sizes for multiple axes {unknown_axes_in_group} \"\n",
    "                                  f\"in input group {group_index} from dimension {current_dim_index} (size {current_dim_size}). \"\n",
    "                                  f\"Provide sizes for at least {len(unknown_axes_in_group) - 1} of them.\")\n",
    "            current_dim_index += 1\n",
    "\n",
    "        # Execute NumPy operations based on the recipe\n",
    "        current_tensor = tensor\n",
    "\n",
    "        # Initial Reshape (Split composite axes '()', handle '1')\n",
    "        if recipe.needs_initial_reshape:\n",
    "            try:\n",
    "                shape_after_split = tuple(axis_name_to_size[ax] for ax in recipe.elementary_left_axes)\n",
    "                current_tensor = tensor.reshape(shape_after_split)\n",
    "            except (ValueError, KeyError, TypeError) as e:\n",
    "                shape_str = ','.join(str(axis_name_to_size.get(ax, '?')) for ax in recipe.elementary_left_axes)\n",
    "                raise EinopsError(f\"Failed initial reshape from {tensor.shape} to ({shape_str}). Error: {e}\") from e\n",
    "\n",
    "        # Drop Anon '1' dimensions via squeeze\n",
    "        if recipe.dropped_anon1_indices:\n",
    "            # Validate that dimensions to be dropped are indeed size 1\n",
    "            for idx in recipe.dropped_anon1_indices:\n",
    "                if idx >= current_tensor.ndim or current_tensor.shape[idx] != 1:\n",
    "                     el_name = recipe.elementary_left_axes[idx] if idx < len(recipe.elementary_left_axes) else '?'\n",
    "                     raise EinopsError(f\"Pattern attempts to drop axis {idx} ('{el_name}') which is not size 1. \"\n",
    "                                       f\"Current shape: {current_tensor.shape}\")\n",
    "            try:\n",
    "                current_tensor = np.squeeze(current_tensor, axis=recipe.dropped_anon1_indices)\n",
    "            except ValueError as e:\n",
    "                 raise EinopsError(f\"Failed squeezing axes {recipe.dropped_anon1_indices}. Shape: {current_tensor.shape}. Error: {e}\") from e\n",
    "\n",
    "        # Transposition (Reorder remaining axes)\n",
    "        if recipe.axes_permutation:\n",
    "            try:\n",
    "                # Validate permutation against the current tensor dimensions (post-squeeze)\n",
    "                if len(recipe.axes_permutation) != current_tensor.ndim:\n",
    "                     raise EinopsError(f\"Internal Error: Permutation length {len(recipe.axes_permutation)} != tensor ndim {current_tensor.ndim}. Perm: {recipe.axes_permutation}, Shape: {current_tensor.shape}\")\n",
    "                if any(p < 0 or p >= current_tensor.ndim for p in recipe.axes_permutation):\n",
    "                     raise EinopsError(f\"Internal Error: Invalid index in permutation {recipe.axes_permutation} for shape {current_tensor.shape}\")\n",
    "\n",
    "                current_tensor = current_tensor.transpose(recipe.axes_permutation)\n",
    "            except (ValueError, IndexError) as e:\n",
    "                raise EinopsError(f\"Failed transpose. Shape (post-squeeze): {current_tensor.shape}, Perm: {recipe.axes_permutation}. Error: {e}\") from e\n",
    "\n",
    "        # Insert new '1' dimensions via expand_dims\n",
    "        if recipe.inserted_1_indices:\n",
    "            # Process in ascending order (recipe ensures this)\n",
    "            for index in recipe.inserted_1_indices:\n",
    "                try:\n",
    "                    if index < 0 or index > current_tensor.ndim: # Allows insertion at the end\n",
    "                         raise EinopsError(f\"Internal Error: Invalid insertion index {index} for shape {current_tensor.shape}\")\n",
    "                    current_tensor = np.expand_dims(current_tensor, axis=index)\n",
    "                except np.AxisError as e:\n",
    "                     raise EinopsError(f\"Failed inserting dim at index {index}. Shape (post-transpose): {current_tensor.shape}. Error: {e}\") from e\n",
    "\n",
    "        # Repetition (Broadcasting for *new* axes from size-1 sources)\n",
    "        repetition_needed = any(src_pos is not None for _, _, src_pos in recipe.final_elementary_info)\n",
    "        if repetition_needed:\n",
    "            try:\n",
    "                final_broadcast_target_shape_list = list(current_tensor.shape) # Start with current shape (post-insert)\n",
    "\n",
    "                # --- Mappings needed to find the source axis's current position ---\n",
    "                # 1. Map original left indices -> position after squeeze\n",
    "                all_input_indices_set = set(range(len(recipe.elementary_left_axes)))\n",
    "                kept_input_indices_broadcast = sorted(list(all_input_indices_set - set(recipe.dropped_anon1_indices)))\n",
    "                old_kept_idx_to_new_squeezed_idx: Dict[int, int] = {\n",
    "                    old_idx: new_idx for new_idx, old_idx in enumerate(kept_input_indices_broadcast)\n",
    "                }\n",
    "                # 2. Map post-squeeze indices -> position after transpose\n",
    "                perm_map_broadcast: Dict[int, int] = {\n",
    "                    old_post_squeeze_idx: new_post_transpose_idx\n",
    "                    for new_post_transpose_idx, old_post_squeeze_idx in enumerate(recipe.axes_permutation)\n",
    "                } if recipe.axes_permutation else {i: i for i in range(current_tensor.ndim)}\n",
    "\n",
    "                # --- Determine target shape for broadcasting ---\n",
    "                for final_info_index, (axis_name, _, src_pos) in enumerate(recipe.final_elementary_info):\n",
    "                     if src_pos is not None: # This axis needs broadcasting from source 'src_pos'\n",
    "                          target_size = axis_name_to_size[axis_name]\n",
    "\n",
    "                          # Find current position of the source axis\n",
    "                          if src_pos not in old_kept_idx_to_new_squeezed_idx: raise EinopsError(f\"Internal Error: Broadcast source index {src_pos} was dropped.\")\n",
    "                          index_post_squeeze = old_kept_idx_to_new_squeezed_idx[src_pos]\n",
    "                          if index_post_squeeze not in perm_map_broadcast: raise EinopsError(f\"Internal Logic Error: Broadcast source axis (post-squeeze index {index_post_squeeze}) not in permutation map.\")\n",
    "                          index_post_transpose = perm_map_broadcast[index_post_squeeze]\n",
    "                          insertions_before = sum(1 for ins_idx in recipe.inserted_1_indices if ins_idx <= index_post_transpose)\n",
    "                          final_pos_in_current_tensor = index_post_transpose + insertions_before\n",
    "\n",
    "                          # Validate index and source size (must be 1 unless target size is also 1)\n",
    "                          if not (0 <= final_pos_in_current_tensor < len(final_broadcast_target_shape_list)):\n",
    "                               raise IndexError(f\"Internal Error: Calculated broadcast pos {final_pos_in_current_tensor} out of bounds for shape {final_broadcast_target_shape_list}\")\n",
    "                          current_size_at_pos = final_broadcast_target_shape_list[final_pos_in_current_tensor]\n",
    "                          if current_size_at_pos != 1 and target_size != current_size_at_pos:\n",
    "                              source_axis_name = recipe.elementary_left_axes[src_pos]\n",
    "                              raise EinopsError(f\"Cannot broadcast dim {final_pos_in_current_tensor} (from source '{source_axis_name}') to size {target_size} for axis '{axis_name}'. Source dim must be 1, found {current_size_at_pos} in shape {current_tensor.shape}.\")\n",
    "\n",
    "                          # Update the target shape list\n",
    "                          final_broadcast_target_shape_list[final_pos_in_current_tensor] = target_size\n",
    "\n",
    "                final_broadcast_target_shape = tuple(final_broadcast_target_shape_list)\n",
    "\n",
    "                # Perform broadcast only if shape needs to change\n",
    "                if current_tensor.shape != final_broadcast_target_shape:\n",
    "                     current_tensor = np.broadcast_to(current_tensor, final_broadcast_target_shape)\n",
    "\n",
    "            except (ValueError, KeyError, IndexError, TypeError, EinopsError) as e:\n",
    "                 target_shape_str = str(final_broadcast_target_shape) if 'final_broadcast_target_shape' in locals() else '?'\n",
    "                 raise EinopsError(f\"Failed repetition (broadcast_to). Current shape: {current_tensor.shape}, Target shape: {target_shape_str}. Error: {e}\") from e\n",
    "\n",
    "        # Final Reshape (Merge elementary axes according to right side composition)\n",
    "        try:\n",
    "            final_target_shape_list = []\n",
    "            intermediate_axis_iter = iter(range(current_tensor.ndim))\n",
    "\n",
    "            if not recipe.right_composition: # Handle '... -> '\n",
    "                 final_target_shape = current_tensor.shape\n",
    "            else:\n",
    "                 for group_index, group in enumerate(recipe.right_composition):\n",
    "                     num_axes_in_group = len(group) if group else 1 # '1' is one axis\n",
    "                     expected_merged_size = 1\n",
    "                     current_group_intermediate_indices = []\n",
    "                     try: # Consume intermediate axes for this group\n",
    "                         for _ in range(num_axes_in_group): current_group_intermediate_indices.append(next(intermediate_axis_iter))\n",
    "                     except StopIteration: raise EinopsError(f\"Shape mismatch: Ran out of intermediate dims (shape {current_tensor.shape}) for output group {group_index+1} ({group}).\")\n",
    "\n",
    "                     if not group: # Output group is '1'\n",
    "                         expected_merged_size = 1\n",
    "                         # Validate corresponding intermediate dim is size 1\n",
    "                         intermediate_axis_index = current_group_intermediate_indices[0]\n",
    "                         current_dim_actual_size = current_tensor.shape[intermediate_axis_index]\n",
    "                         if current_dim_actual_size != 1: raise EinopsError(f\"Shape mismatch for final group '1' at output index {group_index}: Expected size 1, but intermediate dim {intermediate_axis_index} has size {current_dim_actual_size} (shape {current_tensor.shape}).\")\n",
    "                     else: # Named or composite group (merge)\n",
    "                          group_size_product = 1\n",
    "                          for axis_name in group:\n",
    "                              try: group_size_product *= axis_name_to_size[axis_name]\n",
    "                              except KeyError: raise EinopsError(f\"Internal Error: Missing size for axis '{axis_name}' for final shape calc.\")\n",
    "                          expected_merged_size = group_size_product\n",
    "                     final_target_shape_list.append(expected_merged_size)\n",
    "\n",
    "                 final_target_shape = tuple(final_target_shape_list)\n",
    "\n",
    "                 # Validate all intermediate axes were consumed\n",
    "                 try: next(intermediate_axis_iter); raise EinopsError(f\"Shape mismatch: Intermediate tensor (shape {current_tensor.shape}) has more dims than specified by final structure {recipe.right_composition}.\")\n",
    "                 except StopIteration: pass # Expected\n",
    "\n",
    "                 # Validate final dimension count\n",
    "                 if len(final_target_shape) != recipe.final_shape_group_count: raise EinopsError(f\"Internal shape mismatch: Expected {recipe.final_shape_group_count} output dims, calculated {final_target_shape} ({len(final_target_shape)} dims).\")\n",
    "\n",
    "        except (KeyError, IndexError, EinopsError) as e:\n",
    "            raise EinopsError(f\"Internal Error or Shape Mismatch during final shape calculation. Intermediate shape: {current_tensor.shape}. Error: {e}\") from e\n",
    "\n",
    "        # Perform final reshape only if needed\n",
    "        if final_target_shape != current_tensor.shape:\n",
    "            try:\n",
    "                # Validate total number of elements before reshaping\n",
    "                if np.prod(final_target_shape, dtype=np.int64) != current_tensor.size:\n",
    "                     raise EinopsError(f\"Size mismatch: Cannot reshape tensor with {current_tensor.size} elements (shape {current_tensor.shape}) into target shape {final_target_shape} ({np.prod(final_target_shape, dtype=np.int64)} elements).\")\n",
    "                current_tensor = current_tensor.reshape(final_target_shape)\n",
    "            except ValueError as e: # Catch numpy reshape errors\n",
    "                raise EinopsError(f\"Failed final reshape from {current_tensor.shape} to {final_target_shape}. NumPy error: {e}\") from e\n",
    "\n",
    "        # Return result\n",
    "        return current_tensor\n",
    "\n",
    "    # Contextualized Error Reporting\n",
    "    except EinopsError as e:\n",
    "        message = f'Error processing rearrange pattern \"{pattern}\".'\n",
    "        raise EinopsError(message + f\"\\n -> {e}\") from e\n",
    "    except Exception as e:\n",
    "        # Wrap unexpected errors\n",
    "        message = f'Unexpected error processing rearrange pattern \"{pattern}\".'\n",
    "        tb_str = traceback.format_exc()\n",
    "        raise EinopsError(message + f\"\\n Error Type: {type(e).__name__}\\n Error Details: {e}\\n Traceback:\\n{tb_str}\") from e"
   ],
   "id": "9adc6d2a4641c0f7",
   "outputs": [],
   "execution_count": 9
  },
  {
   "metadata": {},
   "cell_type": "markdown",
   "source": [
    "# Unit tests\n",
    "*   Tests cover:\n",
    "    *   Basic operations (transpose, split, merge, add/drop 1, repeat).\n",
    "    *   Ellipsis usage.\n",
    "    *   Edge cases (scalar input, empty arrays, zero-sized dimensions).\n",
    "    *   Complex combined patterns.\n",
    "    *   Extensive error condition checking for invalid patterns and shape mismatches.\n",
    "*   Where available, test results are compared against the reference `einops` library implementation for correctness using `np.testing.assert_array_equal`."
   ],
   "id": "4c662a0d0ba6804"
  },
  {
   "metadata": {
    "ExecuteTime": {
     "end_time": "2025-04-08T19:04:08.818644Z",
     "start_time": "2025-04-08T19:04:08.812071Z"
    }
   },
   "cell_type": "code",
   "source": [
    "import unittest\n",
    "import numpy as np\n",
    "import warnings\n",
    "\n",
    "# Import the reference implementation for comparison (Optional)\n",
    "try:\n",
    "    from einops import rearrange as einops_rearrange\n",
    "    from einops import repeat # Need this specifically for test_06\n",
    "    EINOTS_AVAILABLE = True\n",
    "except ImportError:\n",
    "    EINOTS_AVAILABLE = False\n",
    "    warnings.warn(\"Reference 'einops' library not found. Tests comparing against it will be skipped.\", ImportWarning)\n",
    "\n",
    "# Decorator to skip tests if einops is not installed\n",
    "skip_if_no_einops = unittest.skipUnless(EINOTS_AVAILABLE, \"Reference 'einops' library not installed\")"
   ],
   "id": "f63e28b5c347c82b",
   "outputs": [],
   "execution_count": 10
  },
  {
   "metadata": {
    "ExecuteTime": {
     "end_time": "2025-04-08T19:04:08.875139Z",
     "start_time": "2025-04-08T19:04:08.860204Z"
    }
   },
   "cell_type": "code",
   "source": [
    "class TestRearrangeImplementationSimplified(unittest.TestCase):\n",
    "    \"\"\"\n",
    "    Unit tests for the custom rearrange implementation, focusing on clarity and core functionality.\n",
    "    Compares results against the reference einops library where available.\n",
    "    \"\"\"\n",
    "\n",
    "    # --- Helper Assertion Methods ---\n",
    "    def assert_rearrange_matches_reference(self, pattern, tensor, **axes_lengths):\n",
    "        \"\"\"Asserts custom rearrange output matches reference einops output.\"\"\"\n",
    "        # ... (implementation from test script) ...\n",
    "        if not EINOTS_AVAILABLE: self.skipTest(\"Reference 'einops' library not available for comparison.\")\n",
    "        try: expected_output = einops_rearrange(tensor, pattern, **axes_lengths)\n",
    "        except Exception as e_ref:\n",
    "            print(f\"\\nNote: Reference einops failed for pattern='{pattern}', shape={tensor.shape}, lengths={axes_lengths}. Error: {e_ref}\")\n",
    "            with self.assertRaises((EinopsError, ValueError, TypeError), msg=f\"Reference failed, but custom didn't raise error for pattern='{pattern}', shape={tensor.shape}\"):\n",
    "                 rearrange(tensor, pattern, **axes_lengths)\n",
    "            return\n",
    "        try: actual_output = rearrange(tensor, pattern, **axes_lengths)\n",
    "        except Exception as e_cust: self.fail(f\"Custom rearrange failed unexpectedly for pattern='{pattern}', shape={tensor.shape}, lengths={axes_lengths}. Reference succeeded. Error: {type(e_cust).__name__}: {e_cust}\")\n",
    "        np.testing.assert_array_equal(expected_output, actual_output, err_msg=f\"Output mismatch for pattern='{pattern}', shape={tensor.shape}, lengths={axes_lengths}.\")\n",
    "        self.assertEqual(expected_output.shape, actual_output.shape, f\"Shape mismatch for pattern='{pattern}', shape={tensor.shape}, lengths={axes_lengths}.\")\n",
    "\n",
    "\n",
    "    def assert_raises_einops_error(self, pattern, tensor, error_substring=None, **axes_lengths):\n",
    "        \"\"\"Asserts that the custom rearrange raises EinopsError, optionally checking message content.\"\"\"\n",
    "        # ... (implementation from test script) ...\n",
    "        with self.assertRaises(EinopsError, msg=f\"Expected EinopsError for pattern='{pattern}', shape={tensor.shape}, lengths={axes_lengths}\") as cm:\n",
    "            rearrange(tensor, pattern, **axes_lengths)\n",
    "        if error_substring: self.assertIn(error_substring, str(cm.exception), msg=f\"Error message mismatch for pattern='{pattern}'. Expected substring '{error_substring}' not found in '{cm.exception}'\")\n",
    "\n",
    "    # --- Core Functionality Tests ---\n",
    "\n",
    "    @skip_if_no_einops\n",
    "    def test_01_transpose(self):\n",
    "        \"\"\"Test axis transposition.\"\"\"\n",
    "        x = np.random.rand(2, 3, 4)\n",
    "        self.assert_rearrange_matches_reference('a b c -> c b a', x)\n",
    "        self.assert_rearrange_matches_reference('a b c -> b a c', x)\n",
    "        self.assert_rearrange_matches_reference('... c -> c ...', x) # With ellipsis\n",
    "\n",
    "    @skip_if_no_einops\n",
    "    def test_02_split_axis(self):\n",
    "        \"\"\"Test splitting one axis into multiple axes.\"\"\"\n",
    "        x = np.random.rand(12, 10)\n",
    "        self.assert_rearrange_matches_reference('(h w) c -> h w c', x, h=3) # Infer w=4\n",
    "        self.assert_rearrange_matches_reference('(h w) c -> w h c', x, w=4) # Infer h=3, test order\n",
    "\n",
    "        x2 = np.random.rand(5, 6 * 7)\n",
    "        self.assert_rearrange_matches_reference('a (b c d) -> a b c d', x2, b=6, c=7) # Infer d=1\n",
    "\n",
    "    @skip_if_no_einops\n",
    "    def test_03_merge_axes(self):\n",
    "        \"\"\"Test merging multiple axes into one.\"\"\"\n",
    "        x = np.random.rand(3, 4, 5)\n",
    "        self.assert_rearrange_matches_reference('a b c -> (a b) c', x)\n",
    "        self.assert_rearrange_matches_reference('a b c -> a (b c)', x)\n",
    "        self.assert_rearrange_matches_reference('a b c -> (a b c)', x)\n",
    "\n",
    "    @skip_if_no_einops\n",
    "    def test_04_split_merge_combination(self):\n",
    "        \"\"\"Test combined splitting and merging.\"\"\"\n",
    "        x = np.random.rand(6, 8, 3) # (2*3) (4*2) 3\n",
    "        self.assert_rearrange_matches_reference('(h1 h2) (w1 w2) c -> h1 w1 (h2 w2 c)', x, h1=2, w1=4)\n",
    "\n",
    "    # --- Dimension '1' and Repetition Tests ---\n",
    "\n",
    "    @skip_if_no_einops\n",
    "    def test_05_handle_dimension_1(self):\n",
    "        \"\"\"Test adding, removing, and processing dimensions of size 1.\"\"\"\n",
    "        x_no_1 = np.random.rand(5, 6)\n",
    "        self.assert_rearrange_matches_reference('a b -> a 1 b', x_no_1) # Add '1'\n",
    "\n",
    "        x_with_1 = np.random.rand(5, 1, 6)\n",
    "        self.assert_rearrange_matches_reference('a 1 c -> a c', x_with_1) # Drop '1'\n",
    "        self.assert_rearrange_matches_reference('a 1 c -> c 1 a', x_with_1) # Transpose with '1'\n",
    "\n",
    "    @skip_if_no_einops\n",
    "    def test_06_repeat_from_1(self):\n",
    "        \"\"\"Test repeating/broadcasting using an input dimension of size 1.\"\"\"\n",
    "        from einops import repeat  # Import inside to keep locality\n",
    "\n",
    "        x = np.random.rand(3, 1, 5)\n",
    "        # Repeat middle dim 'b=4' times, using the size 1 dimension as source\n",
    "        expected = repeat(x, 'a 1 c -> a b c', b=4)\n",
    "        actual = rearrange(x, 'a 1 c -> a b c', b=4)\n",
    "        np.testing.assert_array_equal(expected, actual,\n",
    "                                      err_msg=\"Mismatch in broadcasting repeat for middle dim\")\n",
    "        self.assertEqual(expected.shape, actual.shape)\n",
    "\n",
    "        x2 = np.random.rand(1, 4, 5)\n",
    "        # Repeat first dim 'a=2' times\n",
    "        expected2 = repeat(x2, '1 b c -> a b c', a=2)\n",
    "        actual2 = rearrange(x2, '1 b c -> a b c', a=2)\n",
    "        np.testing.assert_array_equal(expected2, actual2,\n",
    "                                      err_msg=\"Mismatch in broadcasting repeat for first dim\")\n",
    "        self.assertEqual(expected2.shape, actual2.shape)\n",
    "\n",
    "    @skip_if_no_einops\n",
    "    def test_07_ellipsis(self):\n",
    "        \"\"\"Test ellipsis (...) for arbitrary dimensions.\"\"\"\n",
    "        x = np.random.rand(2, 3, 4, 5, 6)\n",
    "        self.assert_rearrange_matches_reference('a b ... y z -> z y ... b a', x) # Transpose ends\n",
    "        self.assert_rearrange_matches_reference('a b c ... -> (a b) c ...', x) # Merge with ellipsis\n",
    "        self.assert_rearrange_matches_reference('... x y z -> ... z (x y)', x) # Merge with ellipsis\n",
    "        self.assert_rearrange_matches_reference('(a b) ... -> a b ...', x, a=2) # Split with ellipsis\n",
    "\n",
    "    # --- Edge Case Tests ---\n",
    "\n",
    "    @skip_if_no_einops\n",
    "    def test_08_scalar_input(self):\n",
    "        \"\"\"Test handling of scalar (0D) input.\"\"\"\n",
    "        x = np.array(5)\n",
    "        self.assert_rearrange_matches_reference('-> ', x)     # Identity\n",
    "        self.assert_rearrange_matches_reference('... -> ...', x) # Identity\n",
    "        self.assert_rearrange_matches_reference('-> 1', x)     # Add dim\n",
    "        self.assert_rearrange_matches_reference('-> 1 1', x)   # Add multiple dims\n",
    "\n",
    "    @skip_if_no_einops\n",
    "    def test_09_empty_input(self):\n",
    "        \"\"\"Test handling of tensors with a zero-sized dimension.\"\"\"\n",
    "        x0 = np.zeros((0, 3, 4))\n",
    "        self.assert_rearrange_matches_reference('a b c -> c b a', x0)\n",
    "\n",
    "        x1 = np.zeros((3, 0, 4))\n",
    "        self.assert_rearrange_matches_reference('a b c -> (a c) b', x1)\n",
    "\n",
    "    # --- Complex Patterns ---\n",
    "    @skip_if_no_einops\n",
    "    def test_10_complex_pattern_image_patches(self):\n",
    "        \"\"\"Test a more complex pattern: image to patches.\"\"\"\n",
    "        x_img = np.random.rand(10, 64, 64, 3) # B H W C\n",
    "        patch_h, patch_w = 16, 16\n",
    "        # B (GridH PatchH) (GridW PatchW) C -> B (GridH GridW) (PatchH PatchW C)\n",
    "        self.assert_rearrange_matches_reference(\n",
    "            'b (h ph) (w pw) c -> b (h w) (ph pw c)', x_img, ph=patch_h, pw=patch_w\n",
    "        )\n",
    "\n",
    "    # --- Error Handling Tests ---\n",
    "\n",
    "    def test_11_error_invalid_syntax(self):\n",
    "        \"\"\"Test syntax errors in the pattern.\"\"\"\n",
    "        x = np.random.rand(2, 3)\n",
    "        self.assert_raises_einops_error('a b c', x, \"separator\")\n",
    "        self.assert_raises_einops_error('a (b c -> a b c', x, \"Mismatched parentheses\")\n",
    "        self.assert_raises_einops_error('a b ) c -> a b c', x, \"Mismatched parentheses\")\n",
    "        self.assert_raises_einops_error('a (b (c d)) -> a b c d', np.random.rand(2, 12), \"Nested\")\n",
    "        self.assert_raises_einops_error('a () c -> a c', np.random.rand(2, 1, 3), \"Empty parentheses\")\n",
    "        self.assert_raises_einops_error('a .. b -> a b', x, \"ellipsis\")\n",
    "\n",
    "    def test_12_error_invalid_identifiers(self):\n",
    "        \"\"\"Test invalid or duplicate axis names.\"\"\"\n",
    "        x = np.random.rand(2, 3)\n",
    "        self.assert_raises_einops_error('_a b -> b _a', x, \"underscore\")\n",
    "        self.assert_raises_einops_error('a 2 -> a', np.random.rand(2, 2), \"Numerical axis\")\n",
    "        self.assert_raises_einops_error('a a -> a', np.random.rand(2, 2), \"Duplicate identifier\") # Left\n",
    "        self.assert_raises_einops_error('a b -> a a', x, \"Duplicate identifier\") # Right\n",
    "\n",
    "    def test_13_error_identifier_mismatch(self):\n",
    "        \"\"\"Test missing or unused identifiers between left and right.\"\"\"\n",
    "        x = np.random.rand(2, 3, 4)\n",
    "        self.assert_raises_einops_error('a b c -> a b d', x, \"New axis 'd' on right side\") # New axis 'd' not defined on left or via lengths\n",
    "        self.assert_raises_einops_error('a b c -> a b', x, \"were specified on the left but are not used on the right\") # Drop non-'1' axis 'c'\n",
    "        self.assert_raises_einops_error('a b -> a b c', np.random.rand(2,3), \"requires size\") # Introduce 'c' without size\n",
    "\n",
    "    def test_14_error_shape_incompatibility(self):\n",
    "        \"\"\"Test patterns incompatible with tensor shape (e.g., divisibility).\"\"\"\n",
    "        x = np.random.rand(12, 10)\n",
    "        self.assert_raises_einops_error('(h w) c -> h w c', x, \"not divisible\", h=5) # 12 not divisible by 5\n",
    "        self.assert_raises_einops_error('(h w) c -> h w c', x, \"Cannot infer sizes\") # Both h,w missing\n",
    "\n",
    "        x3d = np.random.rand(2,3,4)\n",
    "        self.assert_raises_einops_error('a b -> (a b)', x3d, \"implies 2 dimensions, but input tensor has 3\") # Wrong ndim\n",
    "\n",
    "    def test_15_error_axis_length(self):\n",
    "        \"\"\"Test errors related to missing, conflicting, or invalid axis lengths.\"\"\"\n",
    "        x = np.random.rand(12, 10)\n",
    "        self.assert_raises_einops_error('(h w) c -> h w c', x, \"Cannot infer\") # Missing lengths for split\n",
    "        self.assert_raises_einops_error('a b -> a b c', x, \"requires size\") # Missing length for new axis\n",
    "\n",
    "        # Conflicting length for split\n",
    "        self.assert_raises_einops_error('(h w) c -> h w c', x, \"Shape mismatch\", h=3, w=5) # 3*5 != 12\n",
    "\n",
    "        # Invalid length value\n",
    "        self.assert_raises_einops_error('(h w) c -> h w c', x, \"positive int\", h=-3)\n",
    "        self.assert_raises_einops_error('(h w) c -> h w c', x, \"positive int\", h=0)\n",
    "\n",
    "    def test_16_error_repetition(self):\n",
    "        \"\"\"Test errors during axis repetition.\"\"\"\n",
    "        x_no_1 = np.random.rand(3, 2, 5)\n",
    "        # Cannot introduce new axis 'c' without a size-1 source dimension\n",
    "        self.assert_raises_einops_error('a b d -> a b c d', x_no_1, \"requires an input axis of size 1\", c=4)\n",
    "\n",
    "        x_one_1 = np.random.rand(1, 5)\n",
    "        # Need two size-1 sources ('a' and 'c'), but only one is available\n",
    "        self.assert_raises_einops_error('1 b -> a c b', x_one_1, \"requires an input axis of size 1\", a=2, c=3)\n",
    "\n",
    "    def test_17_error_scalar_patterns(self):\n",
    "        \"\"\"Test invalid patterns for scalar input.\"\"\"\n",
    "        x = np.array(5)\n",
    "        self.assert_raises_einops_error('-> a', x, \"New axis 'a' on right side\")\n",
    "        self.assert_raises_einops_error('a -> ', x, \"must be empty or '...' for scalar\") # Left side must be empty\n"
   ],
   "id": "cc6d5505f50d4d35",
   "outputs": [],
   "execution_count": 11
  },
  {
   "metadata": {},
   "cell_type": "markdown",
   "source": [
    "## Test 01 - Transpose\n",
    "Patterns tested:\n",
    "*   `a b c -> c b a`\n",
    "*  `a b c -> b a c`\n",
    "*  `... c -> c ...`"
   ],
   "id": "1c233ccbb68a70b6"
  },
  {
   "metadata": {
    "ExecuteTime": {
     "end_time": "2025-04-08T19:06:03.135628Z",
     "start_time": "2025-04-08T19:06:03.130527Z"
    }
   },
   "cell_type": "code",
   "source": [
    "suite = unittest.TestSuite()\n",
    "suite.addTest(TestRearrangeImplementationSimplified('test_01_transpose'))\n",
    "runner = unittest.TextTestRunner(verbosity=2)\n",
    "runner.run(suite)"
   ],
   "id": "a6044ed33722ccbf",
   "outputs": [
    {
     "name": "stderr",
     "output_type": "stream",
     "text": [
      "test_01_transpose (__main__.TestRearrangeImplementationSimplified.test_01_transpose)\n",
      "Test axis transposition. ... ok\n",
      "\n",
      "----------------------------------------------------------------------\n",
      "Ran 1 test in 0.002s\n",
      "\n",
      "OK\n"
     ]
    },
    {
     "data": {
      "text/plain": [
       "<unittest.runner.TextTestResult run=1 errors=0 failures=0>"
      ]
     },
     "execution_count": 19,
     "metadata": {},
     "output_type": "execute_result"
    }
   ],
   "execution_count": 19
  },
  {
   "metadata": {},
   "cell_type": "markdown",
   "source": [
    "## Test 02 - Split Axis\n",
    "Patterns tested:\n",
    "- `'(h w) c -> h w c'` with `h=3` or `w=4`\n",
    "- `'a (b c d) -> a b c d'` with `b=6, c=7`"
   ],
   "id": "a8037d29e9e83cce"
  },
  {
   "metadata": {
    "ExecuteTime": {
     "end_time": "2025-04-08T19:07:16.294521Z",
     "start_time": "2025-04-08T19:07:16.288851Z"
    }
   },
   "cell_type": "code",
   "source": [
    "suite = unittest.TestSuite()\n",
    "suite.addTest(TestRearrangeImplementationSimplified('test_02_split_axis'))\n",
    "runner = unittest.TextTestRunner(verbosity=2)\n",
    "runner.run(suite)"
   ],
   "id": "44ed9e5ab54f1865",
   "outputs": [
    {
     "name": "stderr",
     "output_type": "stream",
     "text": [
      "test_02_split_axis (__main__.TestRearrangeImplementationSimplified.test_02_split_axis)\n",
      "Test splitting one axis into multiple axes. ... ok\n",
      "\n",
      "----------------------------------------------------------------------\n",
      "Ran 1 test in 0.002s\n",
      "\n",
      "OK\n"
     ]
    },
    {
     "data": {
      "text/plain": [
       "<unittest.runner.TextTestResult run=1 errors=0 failures=0>"
      ]
     },
     "execution_count": 20,
     "metadata": {},
     "output_type": "execute_result"
    }
   ],
   "execution_count": 20
  },
  {
   "metadata": {},
   "cell_type": "markdown",
   "source": [
    "## Test 03 - Merge Axes\n",
    "Patterns tested:\n",
    "- `'a b c -> (a b) c'`\n",
    "- `'a b c -> a (b c)'`\n",
    "- `'a b c -> (a b c)'`"
   ],
   "id": "90f7cebd94733c43"
  },
  {
   "metadata": {
    "ExecuteTime": {
     "end_time": "2025-04-08T19:07:50.305753Z",
     "start_time": "2025-04-08T19:07:50.296451Z"
    }
   },
   "cell_type": "code",
   "source": [
    "suite = unittest.TestSuite()\n",
    "suite.addTest(TestRearrangeImplementationSimplified('test_03_merge_axes'))\n",
    "runner = unittest.TextTestRunner(verbosity=2)\n",
    "runner.run(suite)\n"
   ],
   "id": "6afce2e23ce52168",
   "outputs": [
    {
     "name": "stderr",
     "output_type": "stream",
     "text": [
      "test_03_merge_axes (__main__.TestRearrangeImplementationSimplified.test_03_merge_axes)\n",
      "Test merging multiple axes into one. ... ok\n",
      "\n",
      "----------------------------------------------------------------------\n",
      "Ran 1 test in 0.003s\n",
      "\n",
      "OK\n"
     ]
    },
    {
     "data": {
      "text/plain": [
       "<unittest.runner.TextTestResult run=1 errors=0 failures=0>"
      ]
     },
     "execution_count": 21,
     "metadata": {},
     "output_type": "execute_result"
    }
   ],
   "execution_count": 21
  },
  {
   "metadata": {},
   "cell_type": "markdown",
   "source": [
    "## Test 04 - Split and Merge Combination\n",
    "Patterns tested:\n",
    "- `'(h1 h2) (w1 w2) c -> h1 w1 (h2 w2 c)'` with `h1=2, w1=4`"
   ],
   "id": "1f78942af021f4ba"
  },
  {
   "metadata": {
    "ExecuteTime": {
     "end_time": "2025-04-08T19:08:34.278625Z",
     "start_time": "2025-04-08T19:08:34.273102Z"
    }
   },
   "cell_type": "code",
   "source": [
    "suite = unittest.TestSuite()\n",
    "suite.addTest(TestRearrangeImplementationSimplified('test_04_split_merge_combination'))\n",
    "runner = unittest.TextTestRunner(verbosity=2)\n",
    "runner.run(suite)\n"
   ],
   "id": "65789eb5be4a1f2a",
   "outputs": [
    {
     "name": "stderr",
     "output_type": "stream",
     "text": [
      "test_04_split_merge_combination (__main__.TestRearrangeImplementationSimplified.test_04_split_merge_combination)\n",
      "Test combined splitting and merging. ... ok\n",
      "\n",
      "----------------------------------------------------------------------\n",
      "Ran 1 test in 0.002s\n",
      "\n",
      "OK\n"
     ]
    },
    {
     "data": {
      "text/plain": [
       "<unittest.runner.TextTestResult run=1 errors=0 failures=0>"
      ]
     },
     "execution_count": 22,
     "metadata": {},
     "output_type": "execute_result"
    }
   ],
   "execution_count": 22
  },
  {
   "metadata": {},
   "cell_type": "markdown",
   "source": [
    "## Test 05 - Handle Dimension '1'\n",
    "Patterns tested:\n",
    "- `'a b -> a 1 b'`\n",
    "- `'a 1 c -> a c'`\n",
    "- `'a 1 c -> c 1 a'`"
   ],
   "id": "65ecbf04b3d2b557"
  },
  {
   "metadata": {
    "ExecuteTime": {
     "end_time": "2025-04-08T19:09:59.569878Z",
     "start_time": "2025-04-08T19:09:59.565672Z"
    }
   },
   "cell_type": "code",
   "source": [
    "suite = unittest.TestSuite()\n",
    "suite.addTest(TestRearrangeImplementationSimplified('test_05_handle_dimension_1'))\n",
    "runner = unittest.TextTestRunner(verbosity=2)\n",
    "runner.run(suite)\n"
   ],
   "id": "f5b03dd64b56e372",
   "outputs": [
    {
     "name": "stderr",
     "output_type": "stream",
     "text": [
      "test_05_handle_dimension_1 (__main__.TestRearrangeImplementationSimplified.test_05_handle_dimension_1)\n",
      "Test adding, removing, and processing dimensions of size 1. ... ok\n",
      "\n",
      "----------------------------------------------------------------------\n",
      "Ran 1 test in 0.001s\n",
      "\n",
      "OK\n"
     ]
    },
    {
     "data": {
      "text/plain": [
       "<unittest.runner.TextTestResult run=1 errors=0 failures=0>"
      ]
     },
     "execution_count": 26,
     "metadata": {},
     "output_type": "execute_result"
    }
   ],
   "execution_count": 26
  },
  {
   "metadata": {},
   "cell_type": "markdown",
   "source": [
    "## Test 06 - Repeat from '1'\n",
    "Patterns tested:\n",
    "- `'a 1 c -> a b c'` with `b=4`\n",
    "- `'1 b c -> a b c'` with `a=2`\n"
   ],
   "id": "18e01fe0f30f02b7"
  },
  {
   "metadata": {
    "ExecuteTime": {
     "end_time": "2025-04-08T19:10:49.238647Z",
     "start_time": "2025-04-08T19:10:49.234230Z"
    }
   },
   "cell_type": "code",
   "source": [
    "suite = unittest.TestSuite()\n",
    "suite.addTest(TestRearrangeImplementationSimplified('test_06_repeat_from_1'))\n",
    "runner = unittest.TextTestRunner(verbosity=2)\n",
    "runner.run(suite)"
   ],
   "id": "d80d06f925587494",
   "outputs": [
    {
     "name": "stderr",
     "output_type": "stream",
     "text": [
      "test_06_repeat_from_1 (__main__.TestRearrangeImplementationSimplified.test_06_repeat_from_1)\n",
      "Test repeating/broadcasting using an input dimension of size 1. ... ok\n",
      "\n",
      "----------------------------------------------------------------------\n",
      "Ran 1 test in 0.002s\n",
      "\n",
      "OK\n"
     ]
    },
    {
     "data": {
      "text/plain": [
       "<unittest.runner.TextTestResult run=1 errors=0 failures=0>"
      ]
     },
     "execution_count": 30,
     "metadata": {},
     "output_type": "execute_result"
    }
   ],
   "execution_count": 30
  },
  {
   "metadata": {},
   "cell_type": "markdown",
   "source": [
    "## Test 07 - Ellipsis\n",
    "Patterns tested:\n",
    "- `'a b ... y z -> z y ... b a'`\n",
    "- `'a b c ... -> (a b) c ...'`\n",
    "- `'... x y z -> ... z (x y)'`\n",
    "- `'(a b) ... -> a b ...'` with `a=2`\n"
   ],
   "id": "12c3eda7a7c5436e"
  },
  {
   "metadata": {
    "ExecuteTime": {
     "end_time": "2025-04-08T19:11:23.725409Z",
     "start_time": "2025-04-08T19:11:23.720799Z"
    }
   },
   "cell_type": "code",
   "source": [
    "suite = unittest.TestSuite()\n",
    "suite.addTest(TestRearrangeImplementationSimplified('test_07_ellipsis'))\n",
    "runner = unittest.TextTestRunner(verbosity=2)\n",
    "runner.run(suite)"
   ],
   "id": "bdc02528bb0b440d",
   "outputs": [
    {
     "name": "stderr",
     "output_type": "stream",
     "text": [
      "test_07_ellipsis (__main__.TestRearrangeImplementationSimplified.test_07_ellipsis)\n",
      "Test ellipsis (...) for arbitrary dimensions. ... ok\n",
      "\n",
      "----------------------------------------------------------------------\n",
      "Ran 1 test in 0.001s\n",
      "\n",
      "OK\n"
     ]
    },
    {
     "data": {
      "text/plain": [
       "<unittest.runner.TextTestResult run=1 errors=0 failures=0>"
      ]
     },
     "execution_count": 32,
     "metadata": {},
     "output_type": "execute_result"
    }
   ],
   "execution_count": 32
  },
  {
   "metadata": {},
   "cell_type": "markdown",
   "source": [
    "## Test 08 - Scalar Input\n",
    "Patterns tested:\n",
    "- `'-> '` (identity for scalar)\n",
    "- `'... -> ...'` (identity for scalar)\n",
    "- `'-> 1'`, `'-> 1 1'`\n"
   ],
   "id": "6f03b9e579fd69c3"
  },
  {
   "metadata": {
    "ExecuteTime": {
     "end_time": "2025-04-08T19:11:51.452402Z",
     "start_time": "2025-04-08T19:11:51.448009Z"
    }
   },
   "cell_type": "code",
   "source": [
    "suite = unittest.TestSuite()\n",
    "suite.addTest(TestRearrangeImplementationSimplified('test_08_scalar_input'))\n",
    "runner = unittest.TextTestRunner(verbosity=2)\n",
    "runner.run(suite)"
   ],
   "id": "ea5fbd7d47f6a38a",
   "outputs": [
    {
     "name": "stderr",
     "output_type": "stream",
     "text": [
      "test_08_scalar_input (__main__.TestRearrangeImplementationSimplified.test_08_scalar_input)\n",
      "Test handling of scalar (0D) input. ... ok\n",
      "\n",
      "----------------------------------------------------------------------\n",
      "Ran 1 test in 0.001s\n",
      "\n",
      "OK\n"
     ]
    },
    {
     "data": {
      "text/plain": [
       "<unittest.runner.TextTestResult run=1 errors=0 failures=0>"
      ]
     },
     "execution_count": 33,
     "metadata": {},
     "output_type": "execute_result"
    }
   ],
   "execution_count": 33
  },
  {
   "metadata": {},
   "cell_type": "markdown",
   "source": [
    "## Test 09 - Empty Input\n",
    "Patterns tested:\n",
    "- `'a b c -> c b a'` (with zero-size dim)\n",
    "- `'a b c -> (a c) b'`\n",
    "\n"
   ],
   "id": "62da18ac76ee895"
  },
  {
   "metadata": {
    "ExecuteTime": {
     "end_time": "2025-04-08T19:12:15.676851Z",
     "start_time": "2025-04-08T19:12:15.672114Z"
    }
   },
   "cell_type": "code",
   "source": [
    "suite = unittest.TestSuite()\n",
    "suite.addTest(TestRearrangeImplementationSimplified('test_09_empty_input'))\n",
    "runner = unittest.TextTestRunner(verbosity=2)\n",
    "runner.run(suite)"
   ],
   "id": "dd8febf2a8a9fe2c",
   "outputs": [
    {
     "name": "stderr",
     "output_type": "stream",
     "text": [
      "test_09_empty_input (__main__.TestRearrangeImplementationSimplified.test_09_empty_input)\n",
      "Test handling of tensors with a zero-sized dimension. ... ok\n",
      "\n",
      "----------------------------------------------------------------------\n",
      "Ran 1 test in 0.001s\n",
      "\n",
      "OK\n"
     ]
    },
    {
     "data": {
      "text/plain": [
       "<unittest.runner.TextTestResult run=1 errors=0 failures=0>"
      ]
     },
     "execution_count": 34,
     "metadata": {},
     "output_type": "execute_result"
    }
   ],
   "execution_count": 34
  },
  {
   "metadata": {},
   "cell_type": "markdown",
   "source": [
    "## Test 10 - Complex Pattern (Image Patches)\n",
    "Patterns tested:\n",
    "- `'b (h ph) (w pw) c -> b (h w) (ph pw c)'` with `ph=16, pw=16`"
   ],
   "id": "a20ac611affff229"
  },
  {
   "metadata": {
    "ExecuteTime": {
     "end_time": "2025-04-08T19:12:41.030135Z",
     "start_time": "2025-04-08T19:12:41.024079Z"
    }
   },
   "cell_type": "code",
   "source": [
    "suite = unittest.TestSuite()\n",
    "suite.addTest(TestRearrangeImplementationSimplified('test_10_complex_pattern_image_patches'))\n",
    "runner = unittest.TextTestRunner(verbosity=2)\n",
    "runner.run(suite)"
   ],
   "id": "22190d7000a53a89",
   "outputs": [
    {
     "name": "stderr",
     "output_type": "stream",
     "text": [
      "test_10_complex_pattern_image_patches (__main__.TestRearrangeImplementationSimplified.test_10_complex_pattern_image_patches)\n",
      "Test a more complex pattern: image to patches. ... ok\n",
      "\n",
      "----------------------------------------------------------------------\n",
      "Ran 1 test in 0.003s\n",
      "\n",
      "OK\n"
     ]
    },
    {
     "data": {
      "text/plain": [
       "<unittest.runner.TextTestResult run=1 errors=0 failures=0>"
      ]
     },
     "execution_count": 35,
     "metadata": {},
     "output_type": "execute_result"
    }
   ],
   "execution_count": 35
  },
  {
   "metadata": {},
   "cell_type": "markdown",
   "source": [
    "## Test 11 - Invalid Syntax\n",
    "Patterns tested:\n",
    "- `'a b c'` (missing separator)\n",
    "- `'a (b c -> a b c'` (mismatched parentheses)\n",
    "- `'a b ) c -> a b c'` (mismatched parentheses)\n",
    "- `'a (b (c d)) -> a b c d'` (nested parentheses)\n",
    "- `'a () c -> a c'` (empty parentheses)\n",
    "- `'a .. b -> a b'` (invalid ellipsis usage)"
   ],
   "id": "e1d97c2200d68045"
  },
  {
   "metadata": {
    "ExecuteTime": {
     "end_time": "2025-04-08T19:13:05.170067Z",
     "start_time": "2025-04-08T19:13:05.166084Z"
    }
   },
   "cell_type": "code",
   "source": [
    "suite = unittest.TestSuite()\n",
    "suite.addTest(TestRearrangeImplementationSimplified('test_11_error_invalid_syntax'))\n",
    "runner = unittest.TextTestRunner(verbosity=2)\n",
    "runner.run(suite)"
   ],
   "id": "698e28b2260dd0f",
   "outputs": [
    {
     "name": "stderr",
     "output_type": "stream",
     "text": [
      "test_11_error_invalid_syntax (__main__.TestRearrangeImplementationSimplified.test_11_error_invalid_syntax)\n",
      "Test syntax errors in the pattern. ... ok\n",
      "\n",
      "----------------------------------------------------------------------\n",
      "Ran 1 test in 0.001s\n",
      "\n",
      "OK\n"
     ]
    },
    {
     "data": {
      "text/plain": [
       "<unittest.runner.TextTestResult run=1 errors=0 failures=0>"
      ]
     },
     "execution_count": 36,
     "metadata": {},
     "output_type": "execute_result"
    }
   ],
   "execution_count": 36
  },
  {
   "metadata": {},
   "cell_type": "markdown",
   "source": [
    "## Test 12 - Invalid Identifiers\n",
    "Patterns tested:\n",
    "- `'_a b -> b _a'`\n",
    "- `'a 2 -> a'`\n",
    "- `'a a -> a'`\n",
    "- `'a b -> a a'`"
   ],
   "id": "a9182b9ff6d1c0d3"
  },
  {
   "metadata": {
    "ExecuteTime": {
     "end_time": "2025-04-08T19:13:30.627075Z",
     "start_time": "2025-04-08T19:13:30.623246Z"
    }
   },
   "cell_type": "code",
   "source": [
    "suite = unittest.TestSuite()\n",
    "suite.addTest(TestRearrangeImplementationSimplified('test_12_error_invalid_identifiers'))\n",
    "runner = unittest.TextTestRunner(verbosity=2)\n",
    "runner.run(suite)"
   ],
   "id": "38e0f289ce34f2e6",
   "outputs": [
    {
     "name": "stderr",
     "output_type": "stream",
     "text": [
      "test_12_error_invalid_identifiers (__main__.TestRearrangeImplementationSimplified.test_12_error_invalid_identifiers)\n",
      "Test invalid or duplicate axis names. ... ok\n",
      "\n",
      "----------------------------------------------------------------------\n",
      "Ran 1 test in 0.001s\n",
      "\n",
      "OK\n"
     ]
    },
    {
     "data": {
      "text/plain": [
       "<unittest.runner.TextTestResult run=1 errors=0 failures=0>"
      ]
     },
     "execution_count": 37,
     "metadata": {},
     "output_type": "execute_result"
    }
   ],
   "execution_count": 37
  },
  {
   "metadata": {},
   "cell_type": "markdown",
   "source": [
    "## Test 13 - Identifier Mismatch\n",
    "Patterns tested:\n",
    "- `'a b c -> a b d'`\n",
    "- `'a b c -> a b'`\n",
    "- `'a b -> a b c'`"
   ],
   "id": "d42705a95e6225bc"
  },
  {
   "metadata": {
    "ExecuteTime": {
     "end_time": "2025-04-08T19:13:50.842716Z",
     "start_time": "2025-04-08T19:13:50.838923Z"
    }
   },
   "cell_type": "code",
   "source": [
    "suite = unittest.TestSuite()\n",
    "suite.addTest(TestRearrangeImplementationSimplified('test_13_error_identifier_mismatch'))\n",
    "runner = unittest.TextTestRunner(verbosity=2)\n",
    "runner.run(suite)"
   ],
   "id": "e8f9a3dcec2571b8",
   "outputs": [
    {
     "name": "stderr",
     "output_type": "stream",
     "text": [
      "test_13_error_identifier_mismatch (__main__.TestRearrangeImplementationSimplified.test_13_error_identifier_mismatch)\n",
      "Test missing or unused identifiers between left and right. ... ok\n",
      "\n",
      "----------------------------------------------------------------------\n",
      "Ran 1 test in 0.001s\n",
      "\n",
      "OK\n"
     ]
    },
    {
     "data": {
      "text/plain": [
       "<unittest.runner.TextTestResult run=1 errors=0 failures=0>"
      ]
     },
     "execution_count": 38,
     "metadata": {},
     "output_type": "execute_result"
    }
   ],
   "execution_count": 38
  },
  {
   "metadata": {},
   "cell_type": "markdown",
   "source": [
    "## Test 14 - Shape Incompatibility\n",
    "Patterns tested:\n",
    "- `'(h w) c -> h w c'` with `h=5` (12 not divisible)\n",
    "- `'(h w) c -> h w c'` with no h or w\n",
    "- `'a b -> (a b)'` on 3D input"
   ],
   "id": "d849b28fc2c27320"
  },
  {
   "metadata": {
    "ExecuteTime": {
     "end_time": "2025-04-08T19:14:15.140499Z",
     "start_time": "2025-04-08T19:14:15.135124Z"
    }
   },
   "cell_type": "code",
   "source": [
    "suite = unittest.TestSuite()\n",
    "suite.addTest(TestRearrangeImplementationSimplified('test_14_error_shape_incompatibility'))\n",
    "runner = unittest.TextTestRunner(verbosity=2)\n",
    "runner.run(suite)\n"
   ],
   "id": "885efe8ac44b42c1",
   "outputs": [
    {
     "name": "stderr",
     "output_type": "stream",
     "text": [
      "test_14_error_shape_incompatibility (__main__.TestRearrangeImplementationSimplified.test_14_error_shape_incompatibility)\n",
      "Test patterns incompatible with tensor shape (e.g., divisibility). ... ok\n",
      "\n",
      "----------------------------------------------------------------------\n",
      "Ran 1 test in 0.001s\n",
      "\n",
      "OK\n"
     ]
    },
    {
     "data": {
      "text/plain": [
       "<unittest.runner.TextTestResult run=1 errors=0 failures=0>"
      ]
     },
     "execution_count": 40,
     "metadata": {},
     "output_type": "execute_result"
    }
   ],
   "execution_count": 40
  },
  {
   "metadata": {},
   "cell_type": "markdown",
   "source": [
    "## Test 15 - Axis Length\n",
    "Patterns tested:\n",
    "- `'(h w) c -> h w c'` with missing h/w\n",
    "- `'a b -> a b c'` with missing c\n",
    "- `'(h w) c -> h w c'` with conflicting h, w\n",
    "- `'(h w) c -> h w c'` with `h=0` or `h=-3`"
   ],
   "id": "8170a2a59e671ddc"
  },
  {
   "metadata": {
    "ExecuteTime": {
     "end_time": "2025-04-08T19:14:37.018755Z",
     "start_time": "2025-04-08T19:14:37.013934Z"
    }
   },
   "cell_type": "code",
   "source": [
    "suite = unittest.TestSuite()\n",
    "suite.addTest(TestRearrangeImplementationSimplified('test_15_error_axis_length'))\n",
    "runner = unittest.TextTestRunner(verbosity=2)\n",
    "runner.run(suite)"
   ],
   "id": "2226749a05a52a5f",
   "outputs": [
    {
     "name": "stderr",
     "output_type": "stream",
     "text": [
      "test_15_error_axis_length (__main__.TestRearrangeImplementationSimplified.test_15_error_axis_length)\n",
      "Test errors related to missing, conflicting, or invalid axis lengths. ... ok\n",
      "\n",
      "----------------------------------------------------------------------\n",
      "Ran 1 test in 0.001s\n",
      "\n",
      "OK\n"
     ]
    },
    {
     "data": {
      "text/plain": [
       "<unittest.runner.TextTestResult run=1 errors=0 failures=0>"
      ]
     },
     "execution_count": 41,
     "metadata": {},
     "output_type": "execute_result"
    }
   ],
   "execution_count": 41
  },
  {
   "metadata": {},
   "cell_type": "markdown",
   "source": [
    "## Test 16 - Repetition\n",
    "Patterns tested:\n",
    "- `'a b d -> a b c d'` with no size-1 dim\n",
    "- `'1 b -> a c b'` with insufficient size-1 dims"
   ],
   "id": "bfe30871a530e0d6"
  },
  {
   "metadata": {
    "ExecuteTime": {
     "end_time": "2025-04-08T19:15:09.395048Z",
     "start_time": "2025-04-08T19:15:09.390997Z"
    }
   },
   "cell_type": "code",
   "source": [
    "suite = unittest.TestSuite()\n",
    "suite.addTest(TestRearrangeImplementationSimplified('test_16_error_repetition'))\n",
    "runner = unittest.TextTestRunner(verbosity=2)\n",
    "runner.run(suite)"
   ],
   "id": "4292f44ec088a70f",
   "outputs": [
    {
     "name": "stderr",
     "output_type": "stream",
     "text": [
      "test_16_error_repetition (__main__.TestRearrangeImplementationSimplified.test_16_error_repetition)\n",
      "Test errors during axis repetition. ... ok\n",
      "\n",
      "----------------------------------------------------------------------\n",
      "Ran 1 test in 0.001s\n",
      "\n",
      "OK\n"
     ]
    },
    {
     "data": {
      "text/plain": [
       "<unittest.runner.TextTestResult run=1 errors=0 failures=0>"
      ]
     },
     "execution_count": 42,
     "metadata": {},
     "output_type": "execute_result"
    }
   ],
   "execution_count": 42
  },
  {
   "metadata": {},
   "cell_type": "markdown",
   "source": [
    "## Test 17 - Scalar Patterns\n",
    "Patterns tested:\n",
    "- `'-> a'` on scalar\n",
    "- `'a -> '` on scalar"
   ],
   "id": "9e4f36b97588bc55"
  },
  {
   "metadata": {
    "ExecuteTime": {
     "end_time": "2025-04-08T19:15:36.200169Z",
     "start_time": "2025-04-08T19:15:36.195588Z"
    }
   },
   "cell_type": "code",
   "source": [
    "suite = unittest.TestSuite()\n",
    "suite.addTest(TestRearrangeImplementationSimplified('test_17_error_scalar_patterns'))\n",
    "runner = unittest.TextTestRunner(verbosity=2)\n",
    "runner.run(suite)"
   ],
   "id": "d92c0aa876524159",
   "outputs": [
    {
     "name": "stderr",
     "output_type": "stream",
     "text": [
      "test_17_error_scalar_patterns (__main__.TestRearrangeImplementationSimplified.test_17_error_scalar_patterns)\n",
      "Test invalid patterns for scalar input. ... ok\n",
      "\n",
      "----------------------------------------------------------------------\n",
      "Ran 1 test in 0.001s\n",
      "\n",
      "OK\n"
     ]
    },
    {
     "data": {
      "text/plain": [
       "<unittest.runner.TextTestResult run=1 errors=0 failures=0>"
      ]
     },
     "execution_count": 43,
     "metadata": {},
     "output_type": "execute_result"
    }
   ],
   "execution_count": 43
  },
  {
   "metadata": {},
   "cell_type": "markdown",
   "source": "## All Tests",
   "id": "64f93fcd35b3602b"
  },
  {
   "metadata": {
    "ExecuteTime": {
     "end_time": "2025-04-08T19:24:11.823855Z",
     "start_time": "2025-04-08T19:24:11.810680Z"
    }
   },
   "cell_type": "code",
   "source": [
    "suite = unittest.TestSuite()\n",
    "suite.addTests(unittest.TestLoader().loadTestsFromTestCase(TestRearrangeImplementationSimplified))\n",
    "runner = unittest.TextTestRunner(verbosity=2) # verbosity=2 provides more detailed output\n",
    "runner.run(suite)"
   ],
   "id": "547e36732da1f4de",
   "outputs": [
    {
     "name": "stderr",
     "output_type": "stream",
     "text": [
      "test_01_transpose (__main__.TestRearrangeImplementationSimplified.test_01_transpose)\n",
      "Test axis transposition. ... ok\n",
      "test_02_split_axis (__main__.TestRearrangeImplementationSimplified.test_02_split_axis)\n",
      "Test splitting one axis into multiple axes. ... ok\n",
      "test_03_merge_axes (__main__.TestRearrangeImplementationSimplified.test_03_merge_axes)\n",
      "Test merging multiple axes into one. ... ok\n",
      "test_04_split_merge_combination (__main__.TestRearrangeImplementationSimplified.test_04_split_merge_combination)\n",
      "Test combined splitting and merging. ... ok\n",
      "test_05_handle_dimension_1 (__main__.TestRearrangeImplementationSimplified.test_05_handle_dimension_1)\n",
      "Test adding, removing, and processing dimensions of size 1. ... ok\n",
      "test_06_repeat_from_1 (__main__.TestRearrangeImplementationSimplified.test_06_repeat_from_1)\n",
      "Test repeating/broadcasting using an input dimension of size 1. ... ok\n",
      "test_07_ellipsis (__main__.TestRearrangeImplementationSimplified.test_07_ellipsis)\n",
      "Test ellipsis (...) for arbitrary dimensions. ... ok\n",
      "test_08_scalar_input (__main__.TestRearrangeImplementationSimplified.test_08_scalar_input)\n",
      "Test handling of scalar (0D) input. ... ok\n",
      "test_09_empty_input (__main__.TestRearrangeImplementationSimplified.test_09_empty_input)\n",
      "Test handling of tensors with a zero-sized dimension. ... ok\n",
      "test_10_complex_pattern_image_patches (__main__.TestRearrangeImplementationSimplified.test_10_complex_pattern_image_patches)\n",
      "Test a more complex pattern: image to patches. ... ok\n",
      "test_11_error_invalid_syntax (__main__.TestRearrangeImplementationSimplified.test_11_error_invalid_syntax)\n",
      "Test syntax errors in the pattern. ... ok\n",
      "test_12_error_invalid_identifiers (__main__.TestRearrangeImplementationSimplified.test_12_error_invalid_identifiers)\n",
      "Test invalid or duplicate axis names. ... ok\n",
      "test_13_error_identifier_mismatch (__main__.TestRearrangeImplementationSimplified.test_13_error_identifier_mismatch)\n",
      "Test missing or unused identifiers between left and right. ... ok\n",
      "test_14_error_shape_incompatibility (__main__.TestRearrangeImplementationSimplified.test_14_error_shape_incompatibility)\n",
      "Test patterns incompatible with tensor shape (e.g., divisibility). ... ok\n",
      "test_15_error_axis_length (__main__.TestRearrangeImplementationSimplified.test_15_error_axis_length)\n",
      "Test errors related to missing, conflicting, or invalid axis lengths. ... ok\n",
      "test_16_error_repetition (__main__.TestRearrangeImplementationSimplified.test_16_error_repetition)\n",
      "Test errors during axis repetition. ... ok\n",
      "test_17_error_scalar_patterns (__main__.TestRearrangeImplementationSimplified.test_17_error_scalar_patterns)\n",
      "Test invalid patterns for scalar input. ... ok\n",
      "\n",
      "----------------------------------------------------------------------\n",
      "Ran 17 tests in 0.010s\n",
      "\n",
      "OK\n"
     ]
    },
    {
     "data": {
      "text/plain": [
       "<unittest.runner.TextTestResult run=17 errors=0 failures=0>"
      ]
     },
     "execution_count": 45,
     "metadata": {},
     "output_type": "execute_result"
    }
   ],
   "execution_count": 45
  },
  {
   "metadata": {},
   "cell_type": "markdown",
   "source": "# Benchmarking efficiency",
   "id": "5f18d9a639532acb"
  },
  {
   "metadata": {
    "ExecuteTime": {
     "end_time": "2025-04-08T19:04:54.129552Z",
     "start_time": "2025-04-08T19:04:09.288799Z"
    }
   },
   "cell_type": "code",
   "source": [
    "import numpy as np\n",
    "import matplotlib.pyplot as plt\n",
    "from einops import rearrange as einops_rearrange, repeat as einops_repeat\n",
    "import timeit\n",
    "import gc\n",
    "\n",
    "def run_benchmark(description, setup_code, stmt1, stmt2, global_vars, number=1000, repeat=7):\n",
    "    try:\n",
    "        timer1 = timeit.Timer(stmt=stmt1, setup=setup_code, globals=global_vars)\n",
    "        timer2 = timeit.Timer(stmt=stmt2, setup=setup_code, globals=global_vars)\n",
    "        times1 = timer1.repeat(repeat=repeat, number=number)\n",
    "        times2 = timer2.repeat(repeat=repeat, number=number)\n",
    "        return {\n",
    "            \"description\": description,\n",
    "            \"time1\": np.mean(times1) / number,  # Changed from min to mean\n",
    "            \"time2\": np.mean(times2) / number,  # Changed from min to mean\n",
    "            \"name1\": stmt1.split('(')[0],\n",
    "            \"name2\": stmt2.split('(')[0]\n",
    "        }\n",
    "    except Exception as e:\n",
    "        print(f\"Error in '{description}': {e}\")\n",
    "        return None\n",
    "\n",
    "def plot_results(results):\n",
    "    if not results:\n",
    "        print(\"No results to plot.\")\n",
    "        return\n",
    "\n",
    "    labels = [r[\"description\"] for r in results]\n",
    "    times1 = [r[\"time1\"] for r in results]\n",
    "    times2 = [r[\"time2\"] for r in results]\n",
    "    name1, name2 = results[0][\"name1\"], results[0][\"name2\"]\n",
    "\n",
    "    x = np.arange(len(labels))\n",
    "    width = 0.35\n",
    "    fig, ax = plt.subplots(figsize=(12, 6))\n",
    "    ax.bar(x - width/2, times1, width, label=name1, color='#69b3a2')\n",
    "    ax.bar(x + width/2, times2, width, label=name2, color='#ff9999')\n",
    "\n",
    "    ax.set_ylabel('Avg Time per Execution (s, log scale)')\n",
    "    ax.set_title('Average Execution Time Comparison')\n",
    "    ax.set_xticks(x)\n",
    "    ax.set_xticklabels(labels, rotation=45, ha='right')\n",
    "    ax.legend()\n",
    "    ax.grid(True, axis='y', linestyle='--', alpha=0.6)\n",
    "    ax.set_yscale('log')\n",
    "\n",
    "    for bars in [ax.patches[:len(labels)], ax.patches[len(labels):]]:\n",
    "        for bar in bars:\n",
    "            height = bar.get_height()\n",
    "            unit, factor = ('μs', 1e6) if height < 1e-3 else ('ms', 1e3) if height < 1 else ('s', 1)\n",
    "            ax.annotate(f'{height * factor:.1f}{unit}',\n",
    "                        (bar.get_x() + bar.get_width()/2, height),\n",
    "                        xytext=(0, 3), textcoords=\"offset points\",\n",
    "                        ha='center', va='bottom', fontsize=7)\n",
    "\n",
    "    plt.tight_layout()\n",
    "    plt.show()\n",
    "\n",
    "def get_benchmark_cases():\n",
    "    cases = [\n",
    "        (\"Simple Transpose (2D)\", (50, 60), 'h w -> w h', {}),\n",
    "        (\"Split Axis\", (120, 10), '(h w) c -> h w c', {\"h\": 30}),\n",
    "        (\"Merge Axes\", (10, 12, 5), 'a b c -> (a b) c', {}),\n",
    "        (\"Repeat Axis\", (20, 1, 30), 'a 1 c -> a b c', {\"b\": 4}),\n",
    "        (\"Ellipsis + Merge\", (5, 10, 4, 6), '... h w -> ... (h w)', {}),\n",
    "        (\"Multi-dim Split\", (4, 60, 10), 'a (b c) d -> a b c d', {\"b\": 6}),\n",
    "        (\"Large Transpose\", (16, 64, 64, 3), 'b h w c -> b c h w', {}),\n",
    "        (\"Ellipsis + Split\", (2, 4, 64, 16), 'b c (h w) d -> b c h w d', {\"h\": 8}),\n",
    "        (\"Remove Dim '1'\", (10, 1, 20), 'a 1 c -> a c', {}),\n",
    "        (\"Add Dim '1'\", (10, 20), 'a c -> a 1 c', {})\n",
    "    ]\n",
    "\n",
    "    return [{\n",
    "        \"description\": desc,\n",
    "        \"setup_code\": f\"tensor = np.random.rand(*{shape}); pattern = '{pattern}'; kw = {axes}\",\n",
    "        \"stmt1\": f\"einops_rearrange(tensor, pattern, **kw)\" if \"Repeat\" not in desc else f\"einops_repeat(tensor, pattern, **kw)\",\n",
    "        \"stmt2\": f\"my_rearrange(tensor, pattern, **kw)\"\n",
    "    } for desc, shape, pattern, axes in cases]\n",
    "\n",
    "def main():\n",
    "    global_vars = {\"np\": np, \"einops_rearrange\": einops_rearrange, \"einops_repeat\": einops_repeat, \"my_rearrange\": rearrange, \"gc\": gc}\n",
    "    cases = get_benchmark_cases()\n",
    "    results = [r for r in (run_benchmark(c[\"description\"], c[\"setup_code\"], c[\"stmt1\"], c[\"stmt2\"], global_vars, 100000, 7) for c in cases) if r]\n",
    "    plot_results(results)\n",
    "\n",
    "main()"
   ],
   "id": "e40af3d129928543",
   "outputs": [
    {
     "data": {
      "text/plain": [
       "<Figure size 1200x600 with 1 Axes>"
      ],
      "image/png": "[encoded data removed]"
     },
     "metadata": {},
     "output_type": "display_data"
    }
   ],
   "execution_count": 14
  },
  {
   "metadata": {},
   "cell_type": "markdown",
   "source": "# Testing offical einops demo",
   "id": "e8a2c55cef103f1"
  },
  {
   "metadata": {
    "ExecuteTime": {
     "end_time": "2025-04-08T19:37:06.424450Z",
     "start_time": "2025-04-08T19:37:06.421312Z"
    }
   },
   "cell_type": "code",
   "source": [
    "from PIL.Image import fromarray\n",
    "from IPython import get_ipython\n",
    "\n",
    "\n",
    "def display_np_arrays_as_images():\n",
    "    def np_to_png(a):\n",
    "        if 2 <= len(a.shape) <= 3:\n",
    "            return fromarray(np.array(np.clip(a, 0, 1) * 255, dtype=\"uint8\"))._repr_png_()\n",
    "        else:\n",
    "            return fromarray(np.zeros([1, 1], dtype=\"uint8\"))._repr_png_()\n",
    "\n",
    "    def np_to_text(obj, p, cycle):\n",
    "        if len(obj.shape) < 2:\n",
    "            print(repr(obj))\n",
    "        if 2 <= len(obj.shape) <= 3:\n",
    "            pass\n",
    "        else:\n",
    "            print(\"<array of shape {}>\".format(obj.shape))\n",
    "\n",
    "    get_ipython().display_formatter.formatters[\"image/png\"].for_type(np.ndarray, np_to_png)\n",
    "    get_ipython().display_formatter.formatters[\"text/plain\"].for_type(np.ndarray, np_to_text)"
   ],
   "id": "f331dbcd401d51ca",
   "outputs": [],
   "execution_count": 46
  },
  {
   "metadata": {
    "ExecuteTime": {
     "end_time": "2025-04-08T19:38:35.332070Z",
     "start_time": "2025-04-08T19:38:35.329476Z"
    }
   },
   "cell_type": "code",
   "source": [
    "ims = np.load(\"./assets/test_images.npy\", allow_pickle=False)\n",
    "display_np_arrays_as_images()"
   ],
   "id": "208dd67f71b866e3",
   "outputs": [],
   "execution_count": 49
  },
  {
   "metadata": {
    "ExecuteTime": {
     "end_time": "2025-04-08T19:38:37.035928Z",
     "start_time": "2025-04-08T19:38:37.032296Z"
    }
   },
   "cell_type": "code",
   "source": "ims[0]",
   "id": "a3ab8ca03f5b0d34",
   "outputs": [
    {
     "data": {
      "text/plain": [],
      "image/png": "[encoded data removed]"
     },
     "execution_count": 50,
     "metadata": {},
     "output_type": "execute_result"
    }
   ],
   "execution_count": 50
  },
  {
   "metadata": {},
   "cell_type": "markdown",
   "source": "## Making sure we are using the custom version of rearrange",
   "id": "cb624077f0bcce05"
  },
  {
   "metadata": {
    "ExecuteTime": {
     "end_time": "2025-04-08T19:46:49.568806Z",
     "start_time": "2025-04-08T19:46:49.565626Z"
    }
   },
   "cell_type": "code",
   "source": "rearrange.__annotations__\n",
   "id": "6113850a67d4d27b",
   "outputs": [
    {
     "data": {
      "text/plain": [
       "{'tensor': numpy.ndarray,\n",
       " 'pattern': str,\n",
       " 'axes_lengths': int,\n",
       " 'return': numpy.ndarray}"
      ]
     },
     "execution_count": 65,
     "metadata": {},
     "output_type": "execute_result"
    }
   ],
   "execution_count": 65
  },
  {
   "metadata": {},
   "cell_type": "markdown",
   "source": "## Transpose",
   "id": "86c55af05fc99dc4"
  },
  {
   "metadata": {
    "ExecuteTime": {
     "end_time": "2025-04-08T19:38:53.740Z",
     "start_time": "2025-04-08T19:38:53.735259Z"
    }
   },
   "cell_type": "code",
   "source": [
    "# rearrange, as the name suggests, rearranges elements\n",
    "# below we swapped height and width.\n",
    "# In other words, transposed first two axes (dimensions)\n",
    "rearrange(ims[0], \"h w c -> w h c\")\n"
   ],
   "id": "3fb0022b38316819",
   "outputs": [
    {
     "data": {
      "text/plain": [],
      "image/png": "[encoded data removed]"
     },
     "execution_count": 51,
     "metadata": {},
     "output_type": "execute_result"
    }
   ],
   "execution_count": 51
  },
  {
   "metadata": {},
   "cell_type": "markdown",
   "source": "## Composition of axes",
   "id": "6467a2a798244aec"
  },
  {
   "metadata": {
    "ExecuteTime": {
     "end_time": "2025-04-08T19:39:06.756378Z",
     "start_time": "2025-04-08T19:39:06.750397Z"
    }
   },
   "cell_type": "code",
   "source": [
    "# einops allows seamlessly composing batch and height to a new height dimension\n",
    "# We just rendered all images by collapsing to 3d tensor!\n",
    "rearrange(ims, \"b h w c -> (b h) w c\")\n"
   ],
   "id": "bac13313fcaef973",
   "outputs": [
    {
     "data": {
      "text/plain": [],
      "image/png": "[encoded data removed]"
     },
     "execution_count": 52,
     "metadata": {},
     "output_type": "execute_result"
    }
   ],
   "execution_count": 52
  },
  {
   "metadata": {
    "ExecuteTime": {
     "end_time": "2025-04-08T19:41:00.798394Z",
     "start_time": "2025-04-08T19:41:00.794104Z"
    }
   },
   "cell_type": "code",
   "source": [
    "# or compose a new dimension of batch and width\n",
    "rearrange(ims, \"b h w c -> h (b w) c\")"
   ],
   "id": "6c7f1f28b8e160c1",
   "outputs": [
    {
     "data": {
      "text/plain": [],
      "image/png": "[encoded data removed]"
     },
     "execution_count": 53,
     "metadata": {},
     "output_type": "execute_result"
    }
   ],
   "execution_count": 53
  },
  {
   "metadata": {},
   "cell_type": "markdown",
   "source": [
    "\n",
    "## Decomposition of axis\n"
   ],
   "id": "c66b59fc039e2e43"
  },
  {
   "metadata": {
    "ExecuteTime": {
     "end_time": "2025-04-08T19:41:32.242518Z",
     "start_time": "2025-04-08T19:41:32.239064Z"
    }
   },
   "cell_type": "code",
   "source": [
    "# decomposition is the inverse process - represent an axis as a combination of new axes\n",
    "# several decompositions possible, so b1=2 is to decompose 6 to b1=2 and b2=3\n",
    "rearrange(ims, \"(b1 b2) h w c -> b1 b2 h w c \", b1=2).shape"
   ],
   "id": "c7cc2b03d9449921",
   "outputs": [
    {
     "data": {
      "text/plain": [
       "(2, 3, 96, 96, 3)"
      ]
     },
     "execution_count": 54,
     "metadata": {},
     "output_type": "execute_result"
    }
   ],
   "execution_count": 54
  },
  {
   "metadata": {
    "ExecuteTime": {
     "end_time": "2025-04-08T19:47:04.520364Z",
     "start_time": "2025-04-08T19:47:04.514479Z"
    }
   },
   "cell_type": "code",
   "source": [
    "# finally, combine composition and decomposition:\n",
    "rearrange(ims, \"(b1 b2) h w c -> (b1 h) (b2 w) c \", b1=2)"
   ],
   "id": "b9dc3649ac439770",
   "outputs": [
    {
     "data": {
      "text/plain": [],
      "image/png": "[encoded data removed]"
     },
     "execution_count": 66,
     "metadata": {},
     "output_type": "execute_result"
    }
   ],
   "execution_count": 66
  },
  {
   "metadata": {
    "ExecuteTime": {
     "end_time": "2025-04-08T19:47:30.256675Z",
     "start_time": "2025-04-08T19:47:30.250307Z"
    }
   },
   "cell_type": "code",
   "source": [
    "# slightly different composition: b1 is merged with width, b2 with height\n",
    "# ... so letters are ordered by w then by h\n",
    "rearrange(ims, \"(b1 b2) h w c -> (b2 h) (b1 w) c \", b1=2)"
   ],
   "id": "2c1db1cb37508da2",
   "outputs": [
    {
     "data": {
      "text/plain": [],
      "image/png": "[encoded data removed]"
     },
     "execution_count": 67,
     "metadata": {},
     "output_type": "execute_result"
    }
   ],
   "execution_count": 67
  },
  {
   "metadata": {
    "ExecuteTime": {
     "end_time": "2025-04-08T19:47:50.867448Z",
     "start_time": "2025-04-08T19:47:50.861503Z"
    }
   },
   "cell_type": "code",
   "source": [
    "# move part of width dimension to height.\n",
    "# we should call this width-to-height as image width shrunk by 2 and height doubled.\n",
    "# but all pixels are the same!\n",
    "# Can you write reverse operation (height-to-width)?\n",
    "rearrange(ims, \"b h (w w2) c -> (h w2) (b w) c\", w2=2)"
   ],
   "id": "1f812e8813b5a8ef",
   "outputs": [
    {
     "data": {
      "text/plain": [],
      "image/png": "[encoded data removed]"
     },
     "execution_count": 68,
     "metadata": {},
     "output_type": "execute_result"
    }
   ],
   "execution_count": 68
  },
  {
   "metadata": {},
   "cell_type": "markdown",
   "source": "## Order of axes matters\n",
   "id": "c13233731a215660"
  },
  {
   "metadata": {
    "ExecuteTime": {
     "end_time": "2025-04-08T19:48:15.906503Z",
     "start_time": "2025-04-08T19:48:15.900964Z"
    }
   },
   "cell_type": "code",
   "source": [
    "# compare with the next example\n",
    "rearrange(ims, \"b h w c -> h (b w) c\")\n"
   ],
   "id": "4e975282c30d9451",
   "outputs": [
    {
     "data": {
      "text/plain": [],
      "image/png": "[encoded data removed]"
     },
     "execution_count": 69,
     "metadata": {},
     "output_type": "execute_result"
    }
   ],
   "execution_count": 69
  },
  {
   "metadata": {
    "ExecuteTime": {
     "end_time": "2025-04-08T19:48:25.314333Z",
     "start_time": "2025-04-08T19:48:25.307975Z"
    }
   },
   "cell_type": "code",
   "source": [
    "# order of axes in composition is different\n",
    "# rule is just as for digits in the number: leftmost digit is the most significant,\n",
    "# while neighboring numbers differ in the rightmost axis.\n",
    "# you can also think of this as lexicographic sort\n",
    "rearrange(ims, \"b h w c -> h (w b) c\")"
   ],
   "id": "9855e766759f7159",
   "outputs": [
    {
     "data": {
      "text/plain": [],
      "image/png": "[encoded data removed]"
     },
     "execution_count": 70,
     "metadata": {},
     "output_type": "execute_result"
    }
   ],
   "execution_count": 70
  },
  {
   "metadata": {
    "ExecuteTime": {
     "end_time": "2025-04-08T19:48:41.691722Z",
     "start_time": "2025-04-08T19:48:41.685414Z"
    }
   },
   "cell_type": "code",
   "source": [
    "# what if b1 and b2 are reordered before composing to width?\n",
    "rearrange(ims, \"(b1 b2) h w c -> h (b1 b2 w) c \", b1=2)  # produces 'einops'\n",
    "rearrange(ims, \"(b1 b2) h w c -> h (b2 b1 w) c \", b1=2)  # produces 'eoipns'"
   ],
   "id": "113bdfc30a48eac5",
   "outputs": [
    {
     "data": {
      "text/plain": [],
      "image/png": "[encoded data removed]"
     },
     "execution_count": 71,
     "metadata": {},
     "output_type": "execute_result"
    }
   ],
   "execution_count": 71
  },
  {
   "metadata": {},
   "cell_type": "markdown",
   "source": "## Addition or removal of axes",
   "id": "f6c3bed97bcedd33"
  },
  {
   "metadata": {
    "ExecuteTime": {
     "end_time": "2025-04-08T19:49:51.020350Z",
     "start_time": "2025-04-08T19:49:51.017608Z"
    }
   },
   "cell_type": "code",
   "source": [
    "x = rearrange(ims, \"b h w c -> b 1 h w 1 c\")  # functionality of numpy.expand_dims\n",
    "print(x.shape)\n",
    "print(rearrange(x, \"b 1 h w 1 c -> b h w c\").shape)  # functionality of numpy.squeeze"
   ],
   "id": "32318680091c4193",
   "outputs": [
    {
     "name": "stdout",
     "output_type": "stream",
     "text": [
      "(6, 1, 96, 96, 1, 3)\n",
      "(6, 96, 96, 3)\n"
     ]
    }
   ],
   "execution_count": 72
  },
  {
   "metadata": {},
   "cell_type": "markdown",
   "source": "## Weird stuff",
   "id": "30795ec5d0c6529d"
  },
  {
   "metadata": {
    "ExecuteTime": {
     "end_time": "2025-04-08T19:57:03.787388Z",
     "start_time": "2025-04-08T19:57:03.782992Z"
    }
   },
   "cell_type": "code",
   "source": [
    "\n",
    "# interweaving along vertical for couples of images\n",
    "rearrange(ims, \"(b1 b2) h w c -> (h b1) (b2 w) c\", b1=2)"
   ],
   "id": "17ece513d4894508",
   "outputs": [
    {
     "data": {
      "text/plain": [],
      "image/png": "[encoded data removed]"
     },
     "execution_count": 80,
     "metadata": {},
     "output_type": "execute_result"
    }
   ],
   "execution_count": 80
  },
  {
   "metadata": {
    "ExecuteTime": {
     "end_time": "2025-04-08T19:57:17.790720Z",
     "start_time": "2025-04-08T19:57:17.785398Z"
    }
   },
   "cell_type": "code",
   "source": [
    "# interweaving pixels of different pictures\n",
    "# all letters are observable\n",
    "rearrange(ims, \"(b1 b2) h w c -> (h b1) (w b2) c \", b1=2)"
   ],
   "id": "137848c68e8c15df",
   "outputs": [
    {
     "data": {
      "text/plain": [],
      "image/png": "[encoded data removed]"
     },
     "execution_count": 81,
     "metadata": {},
     "output_type": "execute_result"
    }
   ],
   "execution_count": 81
  },
  {
   "metadata": {
    "ExecuteTime": {
     "end_time": "2025-04-08T19:57:29.151200Z",
     "start_time": "2025-04-08T19:57:29.146248Z"
    }
   },
   "cell_type": "code",
   "source": [
    "\n",
    "# split in small patches and transpose each patch\n",
    "rearrange(ims, \"b (h1 h2) (w1 w2) c -> (h1 w2) (b w1 h2) c\", h2=8, w2=8)"
   ],
   "id": "799c33550643a2fa",
   "outputs": [
    {
     "data": {
      "text/plain": [],
      "image/png": "[encoded data removed]"
     },
     "execution_count": 82,
     "metadata": {},
     "output_type": "execute_result"
    }
   ],
   "execution_count": 82
  },
  {
   "metadata": {
    "ExecuteTime": {
     "end_time": "2025-04-08T19:57:45.625256Z",
     "start_time": "2025-04-08T19:57:45.620454Z"
    }
   },
   "cell_type": "code",
   "source": [
    "# stop me someone!\n",
    "rearrange(ims, \"b (h1 h2 h3) (w1 w2 w3) c -> (h1 w2 h3) (b w1 h2 w3) c\", h2=2, w2=2, w3=2, h3=2)"
   ],
   "id": "5c2cfe9d439ff40c",
   "outputs": [
    {
     "data": {
      "text/plain": [],
      "image/png": "[encoded data removed]"
     },
     "execution_count": 83,
     "metadata": {},
     "output_type": "execute_result"
    }
   ],
   "execution_count": 83
  },
  {
   "metadata": {
    "ExecuteTime": {
     "end_time": "2025-04-08T19:57:53.787509Z",
     "start_time": "2025-04-08T19:57:53.782641Z"
    }
   },
   "cell_type": "code",
   "source": "rearrange(ims, \"(b1 b2) (h1 h2) (w1 w2) c -> (h1 b1 h2) (w1 b2 w2) c\", h1=3, w1=3, b2=3)",
   "id": "49e7d9c0c9915333",
   "outputs": [
    {
     "data": {
      "text/plain": [],
      "image/png": "[encoded data removed]"
     },
     "execution_count": 84,
     "metadata": {},
     "output_type": "execute_result"
    }
   ],
   "execution_count": 84
  }
 ],
 "metadata": {
  "kernelspec": {
   "display_name": "Python 3",
   "language": "python",
   "name": "python3"
  },
  "language_info": {
   "codemirror_mode": {
    "name": "ipython",
    "version": 2
   },
   "file_extension": ".py",
   "mimetype": "text/x-python",
   "name": "python",
   "nbconvert_exporter": "python",
   "pygments_lexer": "ipython2",
   "version": "2.7.6"
  }
 },
 "nbformat": 4,
 "nbformat_minor": 5
}
